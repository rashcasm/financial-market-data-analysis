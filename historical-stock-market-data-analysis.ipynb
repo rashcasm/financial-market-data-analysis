{
 "cells": [
  {
   "cell_type": "markdown",
   "metadata": {},
   "source": [
    "# <p style=\"text-align: center;\"><u>Historical Stock Market Data Analysis</u></p>\n",
    "![stock](https://www.fidelity.com/bin-public/600_Fidelity_Com_English/images/migration/AI_moving_averages_2021_banner.jpg)\n",
    "\n",
    "## Introduction\n",
    "*In the evolving world of finance, data analysis plays a crucial role in understanding and predicting market trends, making decisions, and getting insights into the performance of prominent companies.\n",
    "This project aims to delve into the historical stock market data of tech giants using python.*<br>\n",
    "**What is Data Analysis?** *Data analysis is like being a detective for numbers - you dig into heaps of data, interrogate them with mathematical tools, and unlock their secrets to reveal fascinating patterns and hidden stories! It's like Sherlock Holmes meets the Matrix, but instead of solving crimes, you crack the code of information, empowering you to make smarter choices and predictions.*\n",
    "\n",
    "**Objective:** The primary objective of this project is to provide data-driven evaluation of the stock market performance of MAANG.\n",
    "\n",
    "**Data Source:** [MAANG HISTORICAL STOCK MARKET DATA(2001-2023) 📈](https://www.kaggle.com/datasets/soumendraprasad/stock)\n",
    "\n",
    "**Tools Used:**\n",
    "1. Kaggle (Dataset)\n",
    "2. Python (Programming language)\n",
    "3. NumPy (Python library for computing multi-dimensional data)\n",
    "4. Pandas (data manipulation and analysis library)\n",
    "5. MatPlotlib (data visualization and graphical plotting library)\n",
    "6. Seaborn (Seaborn is a visualization library that is built on top of Matplotlib)\n",
    "\n",
    "This project was undertaken as the course project for [Data Analysis with Python](zerotopandas.com) by [Jovian](jovian.ml)\n",
    "\n",
    "\n",
    "*By- Rashmin Chaudhari <br>Date- 4 July 2023*"
   ]
  },
  {
   "cell_type": "markdown",
   "metadata": {},
   "source": [
    "### How to run the code\n",
    "\n",
    "This is an executable [*Jupyter notebook*](https://jupyter.org) hosted on [Jovian.ml](https://www.jovian.ml), a platform for sharing data science projects. You can run and experiment with the code in a couple of ways: *using free online resources* (recommended) or *on your own computer*.\n",
    "\n",
    "#### Option 1: Running using free online resources (1-click, recommended)\n",
    "\n",
    "The easiest way to start executing this notebook is to click the \"Run\" button at the top of this page, and select \"Run on Binder\". This will run the notebook on [mybinder.org](https://mybinder.org), a free online service for running Jupyter notebooks. You can also select \"Run on Colab\" or \"Run on Kaggle\".\n",
    "\n",
    "\n",
    "#### Option 2: Running on your computer locally\n",
    "\n",
    "1. Install Conda by [following these instructions](https://conda.io/projects/conda/en/latest/user-guide/install/index.html). Add Conda binaries to your system `PATH`, so you can use the `conda` command on your terminal.\n",
    "\n",
    "2. Create a Conda environment and install the required libraries by running these commands on the terminal:\n",
    "\n",
    "```\n",
    "conda create -n zerotopandas -y python=3.8 \n",
    "conda activate zerotopandas\n",
    "pip install jovian jupyter numpy pandas matplotlib seaborn opendatasets --upgrade\n",
    "```\n",
    "\n",
    "3. Press the \"Clone\" button above to copy the command for downloading the notebook, and run it on the terminal. This will create a new directory and download the notebook. The command will look something like this:\n",
    "\n",
    "```\n",
    "jovian clone notebook-owner/notebook-id\n",
    "```\n",
    "\n",
    "\n",
    "\n",
    "4. Enter the newly created directory using `cd directory-name` and start the Jupyter notebook.\n",
    "\n",
    "```\n",
    "jupyter notebook\n",
    "```\n",
    "\n",
    "You can now access Jupyter's web interface by clicking the link that shows up on the terminal or by visiting http://localhost:8888 on your browser. Click on the notebook file (it has a `.ipynb` extension) to open it.\n"
   ]
  },
  {
   "cell_type": "markdown",
   "metadata": {},
   "source": [
    "## Downloading the Dataset\n",
    "\n",
    "Get the dataset from Kaggle.<br>\n",
    "*Source: https://www.kaggle.com/datasets/soumendraprasad/stock*"
   ]
  },
  {
   "cell_type": "markdown",
   "metadata": {},
   "source": [
    "Installing necessary packages."
   ]
  },
  {
   "cell_type": "code",
   "execution_count": 1,
   "metadata": {},
   "outputs": [],
   "source": [
    "!pip install jovian opendatasets --upgrade --quiet"
   ]
  },
  {
   "cell_type": "code",
   "execution_count": 2,
   "metadata": {},
   "outputs": [],
   "source": [
    "# pip install' installs the packages 'jovian' and 'opendatasets' in the system.\n",
    "# opendatasets is a Python library for downloading datasets from online sources like Kaggle"
   ]
  },
  {
   "cell_type": "markdown",
   "metadata": {},
   "source": [
    "Let's begin by downloading the data, and listing the files within the dataset."
   ]
  },
  {
   "cell_type": "code",
   "execution_count": 3,
   "metadata": {},
   "outputs": [],
   "source": [
    "dataset_url = 'https://www.kaggle.com/datasets/soumendraprasad/stock' "
   ]
  },
  {
   "cell_type": "code",
   "execution_count": 4,
   "metadata": {},
   "outputs": [
    {
     "name": "stdout",
     "output_type": "stream",
     "text": [
      "Please provide your Kaggle credentials to download this dataset. Learn more: http://bit.ly/kaggle-creds\n",
      "Your Kaggle username: rashcasm\n",
      "Your Kaggle Key: ········\n",
      "Downloading stock.zip to ./stock\n"
     ]
    },
    {
     "name": "stderr",
     "output_type": "stream",
     "text": [
      "100%|██████████| 765k/765k [00:01<00:00, 582kB/s]"
     ]
    },
    {
     "name": "stdout",
     "output_type": "stream",
     "text": [
      "\n"
     ]
    },
    {
     "name": "stderr",
     "output_type": "stream",
     "text": [
      "\n"
     ]
    }
   ],
   "source": [
    "import opendatasets as od\n",
    "od.download(dataset_url)"
   ]
  },
  {
   "cell_type": "markdown",
   "metadata": {},
   "source": [
    "The dataset has been downloaded and extracted in the directory `stock`."
   ]
  },
  {
   "cell_type": "code",
   "execution_count": 5,
   "metadata": {},
   "outputs": [],
   "source": [
    "data_dir = './stock'"
   ]
  },
  {
   "cell_type": "markdown",
   "metadata": {},
   "source": [
    "We initiated the variable `data_dir` with the value `stocks` i.e. name of the directory."
   ]
  },
  {
   "cell_type": "code",
   "execution_count": 6,
   "metadata": {},
   "outputs": [
    {
     "data": {
      "text/plain": [
       "['Amazon.csv', 'Apple.csv', 'Google.csv', 'Microsoft.csv', 'Netflix.csv']"
      ]
     },
     "execution_count": 6,
     "metadata": {},
     "output_type": "execute_result"
    }
   ],
   "source": [
    "import os\n",
    "os.listdir(data_dir)"
   ]
  },
  {
   "cell_type": "markdown",
   "metadata": {},
   "source": [
    "`import os` is a statement that allows you to access various operating system-related functionalities and utilities provided by the `os` module.<br>Here, we are using it for File and Directory Operations.<br>\n",
    "`os.listdir` is a function from the `os` module that is used to obtain a list of all the files and directories present in a specified directory path"
   ]
  },
  {
   "cell_type": "markdown",
   "metadata": {},
   "source": [
    "We got 5 CSV files containing stock data of Amazon, Apple, Google, Microsoft and Netflix respectively.\n",
    "Let us save and upload our work to Jovian before continuing."
   ]
  },
  {
   "cell_type": "code",
   "execution_count": 7,
   "metadata": {},
   "outputs": [],
   "source": [
    "project_name = \"historical-stock-market-data-analysis\""
   ]
  },
  {
   "cell_type": "code",
   "execution_count": 8,
   "metadata": {},
   "outputs": [],
   "source": [
    "!pip install jovian --upgrade -q"
   ]
  },
  {
   "cell_type": "code",
   "execution_count": 9,
   "metadata": {},
   "outputs": [],
   "source": [
    "import jovian"
   ]
  },
  {
   "cell_type": "code",
   "execution_count": 10,
   "metadata": {},
   "outputs": [
    {
     "data": {
      "application/javascript": [
       "window.require && require([\"base/js/namespace\"],function(Jupyter){Jupyter.notebook.save_checkpoint()})"
      ],
      "text/plain": [
       "<IPython.core.display.Javascript object>"
      ]
     },
     "metadata": {},
     "output_type": "display_data"
    },
    {
     "name": "stdout",
     "output_type": "stream",
     "text": [
      "[jovian] Updating notebook \"rashmin9c/historical-stock-market-data-analysis\" on https://jovian.com\u001b[0m\n",
      "[jovian] Committed successfully! https://jovian.com/rashmin9c/historical-stock-market-data-analysis\u001b[0m\n"
     ]
    },
    {
     "data": {
      "text/plain": [
       "'https://jovian.com/rashmin9c/historical-stock-market-data-analysis'"
      ]
     },
     "execution_count": 10,
     "metadata": {},
     "output_type": "execute_result"
    }
   ],
   "source": [
    "jovian.commit(project=project_name)"
   ]
  },
  {
   "cell_type": "markdown",
   "metadata": {},
   "source": [
    "### importing required libraries"
   ]
  },
  {
   "cell_type": "code",
   "execution_count": 11,
   "metadata": {},
   "outputs": [],
   "source": [
    "import numpy as np #Linear equations\n",
    "import matplotlib.pyplot as plt #plotting visualizations\n",
    "import seaborn as sns #deeper visualizations\n",
    "import pandas as pd #dataframe control"
   ]
  },
  {
   "cell_type": "markdown",
   "metadata": {},
   "source": [
    "## Data Preparation and Cleaning\n",
    "\n",
    "Data preparation and cleaning are critical steps in any data analysis project. These steps involve handling missing or erroneous data, converting data types, and making the dataset ready for analysis.<br> We will see this step by step."
   ]
  },
  {
   "cell_type": "markdown",
   "metadata": {},
   "source": [
    "**1.** We will use the Pandas `read_csv()` function to read the `CSV` file and load the data into a `DataFrame`. The DataFrame is a two-dimensional, tabular data structure that will store our dataset."
   ]
  },
  {
   "cell_type": "code",
   "execution_count": 12,
   "metadata": {},
   "outputs": [],
   "source": [
    "microsoft_df = pd.read_csv(data_dir + '/Microsoft.csv')\n",
    "amazon_df = pd.read_csv(data_dir + '/Amazon.csv')\n",
    "apple_df = pd.read_csv(data_dir + '/Apple.csv')\n",
    "netflix_df = pd.read_csv(data_dir + '/Netflix.csv')\n",
    "google_df = pd.read_csv(data_dir + '/Google.csv')"
   ]
  },
  {
   "cell_type": "code",
   "execution_count": 13,
   "metadata": {},
   "outputs": [
    {
     "name": "stdout",
     "output_type": "stream",
     "text": [
      "<class 'pandas.core.frame.DataFrame'>\n",
      "RangeIndex: 5839 entries, 0 to 5838\n",
      "Data columns (total 7 columns):\n",
      " #   Column     Non-Null Count  Dtype  \n",
      "---  ------     --------------  -----  \n",
      " 0   Open       5839 non-null   float64\n",
      " 1   High       5839 non-null   float64\n",
      " 2   Low        5839 non-null   float64\n",
      " 3   Close      5839 non-null   float64\n",
      " 4   Adj Close  5839 non-null   float64\n",
      " 5   Volume     5839 non-null   int64  \n",
      " 6   Date       5839 non-null   object \n",
      "dtypes: float64(5), int64(1), object(1)\n",
      "memory usage: 319.4+ KB\n"
     ]
    }
   ],
   "source": [
    "# We will check the type and information of microsoft_df as an example\n",
    "microsoft_df.info()\n",
    "\n",
    "# microsoft.csv amazon.csv apple.csv netflix.csv google.csv\n",
    "# first has 5839 rows, second has 5839 rows, third has 5839 rows, fourth has 5241 rows, fifth has 4677 rows\n",
    "# respectively."
   ]
  },
  {
   "cell_type": "markdown",
   "metadata": {},
   "source": [
    "We have successfully loaded the data in respective dataframes.<br>\n",
    "**2.** Now as we can see that the Date column is having type as object, we will change it to datetime using the `to_datetime`..."
   ]
  },
  {
   "cell_type": "code",
   "execution_count": 14,
   "metadata": {},
   "outputs": [],
   "source": [
    "microsoft_df['Date']=pd.to_datetime(microsoft_df['Date'])\n",
    "amazon_df['Date']=pd.to_datetime(amazon_df['Date'])\n",
    "apple_df['Date']=pd.to_datetime(apple_df['Date'])\n",
    "netflix_df['Date']=pd.to_datetime(netflix_df['Date'])\n",
    "google_df['Date']=pd.to_datetime(google_df['Date'])"
   ]
  },
  {
   "cell_type": "markdown",
   "metadata": {},
   "source": [
    "**3.** Now we will merge the data of all 5 companies into one single dataframe using an outer join. <br> *The result of an outer join includes all the rows from both tables, and any unmatched rows from one table will contain NaN (Not a Number) or null values for the columns belonging to the other table.*"
   ]
  },
  {
   "cell_type": "code",
   "execution_count": 15,
   "metadata": {},
   "outputs": [],
   "source": [
    "# Adding suffixes to columns for each DataFrame\n",
    "# The open, close etc are different for different companies, to avoid any type of conflict in data,\n",
    "# we will add the suffix _m for microsoft, _am for amazon, _ap for apple, _n for netflix and _g for google\n",
    "microsoft_df = microsoft_df.add_suffix('_m')\n",
    "amazon_df = amazon_df.add_suffix('_am')\n",
    "apple_df = apple_df.add_suffix('_ap')\n",
    "netflix_df = netflix_df.add_suffix('_n')\n",
    "google_df = google_df.add_suffix('_g')\n",
    "\n",
    "# Merging DataFrames on the \"Date\" column\n",
    "# with other columns, the suffix of date column is changed too, so we will make sure to use left_on and right_on\n",
    "# so that the dataframe is properly arranged keeping date_m as reference  \n",
    "merged_df = pd.merge(microsoft_df, amazon_df, how='outer', left_on='Date_m', right_on='Date_am')\n",
    "merged_df = pd.merge(merged_df, apple_df, how='outer', left_on='Date_m', right_on='Date_ap')\n",
    "merged_df = pd.merge(merged_df, netflix_df, how='outer', left_on='Date_m', right_on='Date_n')\n",
    "merged_df = pd.merge(merged_df, google_df, how='outer', left_on='Date_m', right_on='Date_g')\n",
    "\n",
    "# Droping duplicate \"Date\" columns and rearranging the order of columns\n",
    "merged_df.drop(columns=['Date_am', 'Date_ap', 'Date_n', 'Date_g'], inplace=True)\n",
    "merged_df = merged_df[['Date_m'] + [col for col in merged_df.columns if col != 'Date_m']]\n",
    "\n",
    "# Rename the \"Date_m\" column to \"Date\"\n",
    "merged_df.rename(columns={\"Date_m\": \"Date\"}, inplace=True)"
   ]
  },
  {
   "cell_type": "code",
   "execution_count": 16,
   "metadata": {},
   "outputs": [
    {
     "data": {
      "text/html": [
       "<div>\n",
       "<style scoped>\n",
       "    .dataframe tbody tr th:only-of-type {\n",
       "        vertical-align: middle;\n",
       "    }\n",
       "\n",
       "    .dataframe tbody tr th {\n",
       "        vertical-align: top;\n",
       "    }\n",
       "\n",
       "    .dataframe thead th {\n",
       "        text-align: right;\n",
       "    }\n",
       "</style>\n",
       "<table border=\"1\" class=\"dataframe\">\n",
       "  <thead>\n",
       "    <tr style=\"text-align: right;\">\n",
       "      <th></th>\n",
       "      <th>Date</th>\n",
       "      <th>Open_m</th>\n",
       "      <th>High_m</th>\n",
       "      <th>Low_m</th>\n",
       "      <th>Close_m</th>\n",
       "      <th>Adj Close_m</th>\n",
       "      <th>Volume_m</th>\n",
       "      <th>Open_am</th>\n",
       "      <th>High_am</th>\n",
       "      <th>Low_am</th>\n",
       "      <th>...</th>\n",
       "      <th>Low_n</th>\n",
       "      <th>Close_n</th>\n",
       "      <th>Adj Close_n</th>\n",
       "      <th>Volume_n</th>\n",
       "      <th>Open_g</th>\n",
       "      <th>High_g</th>\n",
       "      <th>Low_g</th>\n",
       "      <th>Close_g</th>\n",
       "      <th>Adj Close_g</th>\n",
       "      <th>Volume_g</th>\n",
       "    </tr>\n",
       "  </thead>\n",
       "  <tbody>\n",
       "    <tr>\n",
       "      <th>0</th>\n",
       "      <td>2000-01-03</td>\n",
       "      <td>58.687500</td>\n",
       "      <td>59.312500</td>\n",
       "      <td>56.000000</td>\n",
       "      <td>58.281250</td>\n",
       "      <td>36.361576</td>\n",
       "      <td>53228400</td>\n",
       "      <td>4.075000</td>\n",
       "      <td>4.478125</td>\n",
       "      <td>3.952344</td>\n",
       "      <td>...</td>\n",
       "      <td>NaN</td>\n",
       "      <td>NaN</td>\n",
       "      <td>NaN</td>\n",
       "      <td>NaN</td>\n",
       "      <td>NaN</td>\n",
       "      <td>NaN</td>\n",
       "      <td>NaN</td>\n",
       "      <td>NaN</td>\n",
       "      <td>NaN</td>\n",
       "      <td>NaN</td>\n",
       "    </tr>\n",
       "    <tr>\n",
       "      <th>1</th>\n",
       "      <td>2000-01-04</td>\n",
       "      <td>56.781250</td>\n",
       "      <td>58.562500</td>\n",
       "      <td>56.125000</td>\n",
       "      <td>56.312500</td>\n",
       "      <td>35.133263</td>\n",
       "      <td>54119000</td>\n",
       "      <td>4.268750</td>\n",
       "      <td>4.575000</td>\n",
       "      <td>4.087500</td>\n",
       "      <td>...</td>\n",
       "      <td>NaN</td>\n",
       "      <td>NaN</td>\n",
       "      <td>NaN</td>\n",
       "      <td>NaN</td>\n",
       "      <td>NaN</td>\n",
       "      <td>NaN</td>\n",
       "      <td>NaN</td>\n",
       "      <td>NaN</td>\n",
       "      <td>NaN</td>\n",
       "      <td>NaN</td>\n",
       "    </tr>\n",
       "    <tr>\n",
       "      <th>2</th>\n",
       "      <td>2000-01-05</td>\n",
       "      <td>55.562500</td>\n",
       "      <td>58.187500</td>\n",
       "      <td>54.687500</td>\n",
       "      <td>56.906250</td>\n",
       "      <td>35.503712</td>\n",
       "      <td>64059600</td>\n",
       "      <td>3.525000</td>\n",
       "      <td>3.756250</td>\n",
       "      <td>3.400000</td>\n",
       "      <td>...</td>\n",
       "      <td>NaN</td>\n",
       "      <td>NaN</td>\n",
       "      <td>NaN</td>\n",
       "      <td>NaN</td>\n",
       "      <td>NaN</td>\n",
       "      <td>NaN</td>\n",
       "      <td>NaN</td>\n",
       "      <td>NaN</td>\n",
       "      <td>NaN</td>\n",
       "      <td>NaN</td>\n",
       "    </tr>\n",
       "    <tr>\n",
       "      <th>3</th>\n",
       "      <td>2000-01-06</td>\n",
       "      <td>56.093750</td>\n",
       "      <td>56.937500</td>\n",
       "      <td>54.187500</td>\n",
       "      <td>55.000000</td>\n",
       "      <td>34.314400</td>\n",
       "      <td>54976600</td>\n",
       "      <td>3.565625</td>\n",
       "      <td>3.634375</td>\n",
       "      <td>3.200000</td>\n",
       "      <td>...</td>\n",
       "      <td>NaN</td>\n",
       "      <td>NaN</td>\n",
       "      <td>NaN</td>\n",
       "      <td>NaN</td>\n",
       "      <td>NaN</td>\n",
       "      <td>NaN</td>\n",
       "      <td>NaN</td>\n",
       "      <td>NaN</td>\n",
       "      <td>NaN</td>\n",
       "      <td>NaN</td>\n",
       "    </tr>\n",
       "    <tr>\n",
       "      <th>4</th>\n",
       "      <td>2000-01-07</td>\n",
       "      <td>54.312500</td>\n",
       "      <td>56.125000</td>\n",
       "      <td>53.656250</td>\n",
       "      <td>55.718750</td>\n",
       "      <td>34.762833</td>\n",
       "      <td>62013600</td>\n",
       "      <td>3.350000</td>\n",
       "      <td>3.525000</td>\n",
       "      <td>3.309375</td>\n",
       "      <td>...</td>\n",
       "      <td>NaN</td>\n",
       "      <td>NaN</td>\n",
       "      <td>NaN</td>\n",
       "      <td>NaN</td>\n",
       "      <td>NaN</td>\n",
       "      <td>NaN</td>\n",
       "      <td>NaN</td>\n",
       "      <td>NaN</td>\n",
       "      <td>NaN</td>\n",
       "      <td>NaN</td>\n",
       "    </tr>\n",
       "    <tr>\n",
       "      <th>...</th>\n",
       "      <td>...</td>\n",
       "      <td>...</td>\n",
       "      <td>...</td>\n",
       "      <td>...</td>\n",
       "      <td>...</td>\n",
       "      <td>...</td>\n",
       "      <td>...</td>\n",
       "      <td>...</td>\n",
       "      <td>...</td>\n",
       "      <td>...</td>\n",
       "      <td>...</td>\n",
       "      <td>...</td>\n",
       "      <td>...</td>\n",
       "      <td>...</td>\n",
       "      <td>...</td>\n",
       "      <td>...</td>\n",
       "      <td>...</td>\n",
       "      <td>...</td>\n",
       "      <td>...</td>\n",
       "      <td>...</td>\n",
       "      <td>...</td>\n",
       "    </tr>\n",
       "    <tr>\n",
       "      <th>5834</th>\n",
       "      <td>2023-03-13</td>\n",
       "      <td>247.399994</td>\n",
       "      <td>257.910004</td>\n",
       "      <td>245.729996</td>\n",
       "      <td>253.919998</td>\n",
       "      <td>253.919998</td>\n",
       "      <td>33339700</td>\n",
       "      <td>89.970001</td>\n",
       "      <td>94.019997</td>\n",
       "      <td>88.120003</td>\n",
       "      <td>...</td>\n",
       "      <td>285.329987</td>\n",
       "      <td>293.510010</td>\n",
       "      <td>293.510010</td>\n",
       "      <td>6292400.0</td>\n",
       "      <td>90.565002</td>\n",
       "      <td>93.080002</td>\n",
       "      <td>89.940002</td>\n",
       "      <td>91.660004</td>\n",
       "      <td>91.660004</td>\n",
       "      <td>31508600.0</td>\n",
       "    </tr>\n",
       "    <tr>\n",
       "      <th>5835</th>\n",
       "      <td>2023-03-14</td>\n",
       "      <td>256.750000</td>\n",
       "      <td>261.070007</td>\n",
       "      <td>255.860001</td>\n",
       "      <td>260.790009</td>\n",
       "      <td>260.790009</td>\n",
       "      <td>33620300</td>\n",
       "      <td>93.830002</td>\n",
       "      <td>95.070000</td>\n",
       "      <td>92.709999</td>\n",
       "      <td>...</td>\n",
       "      <td>290.309998</td>\n",
       "      <td>294.940002</td>\n",
       "      <td>294.940002</td>\n",
       "      <td>5956700.0</td>\n",
       "      <td>93.070000</td>\n",
       "      <td>94.830002</td>\n",
       "      <td>92.779999</td>\n",
       "      <td>94.250000</td>\n",
       "      <td>94.250000</td>\n",
       "      <td>32303900.0</td>\n",
       "    </tr>\n",
       "    <tr>\n",
       "      <th>5836</th>\n",
       "      <td>2023-03-15</td>\n",
       "      <td>259.980011</td>\n",
       "      <td>266.480011</td>\n",
       "      <td>259.209991</td>\n",
       "      <td>265.440002</td>\n",
       "      <td>265.440002</td>\n",
       "      <td>46028000</td>\n",
       "      <td>93.220001</td>\n",
       "      <td>96.669998</td>\n",
       "      <td>93.070000</td>\n",
       "      <td>...</td>\n",
       "      <td>292.279999</td>\n",
       "      <td>303.790009</td>\n",
       "      <td>303.790009</td>\n",
       "      <td>9215300.0</td>\n",
       "      <td>93.540001</td>\n",
       "      <td>97.250000</td>\n",
       "      <td>93.040001</td>\n",
       "      <td>96.550003</td>\n",
       "      <td>96.550003</td>\n",
       "      <td>38367300.0</td>\n",
       "    </tr>\n",
       "    <tr>\n",
       "      <th>5837</th>\n",
       "      <td>2023-03-16</td>\n",
       "      <td>265.209991</td>\n",
       "      <td>276.559998</td>\n",
       "      <td>263.279999</td>\n",
       "      <td>276.200012</td>\n",
       "      <td>276.200012</td>\n",
       "      <td>54768800</td>\n",
       "      <td>95.750000</td>\n",
       "      <td>100.989998</td>\n",
       "      <td>95.610001</td>\n",
       "      <td>...</td>\n",
       "      <td>301.709991</td>\n",
       "      <td>310.059998</td>\n",
       "      <td>310.059998</td>\n",
       "      <td>7903700.0</td>\n",
       "      <td>96.570000</td>\n",
       "      <td>101.970001</td>\n",
       "      <td>95.870003</td>\n",
       "      <td>101.070000</td>\n",
       "      <td>101.070000</td>\n",
       "      <td>54499500.0</td>\n",
       "    </tr>\n",
       "    <tr>\n",
       "      <th>5838</th>\n",
       "      <td>2023-03-17</td>\n",
       "      <td>278.260010</td>\n",
       "      <td>283.329987</td>\n",
       "      <td>276.320007</td>\n",
       "      <td>279.429993</td>\n",
       "      <td>279.429993</td>\n",
       "      <td>69492200</td>\n",
       "      <td>99.790001</td>\n",
       "      <td>100.660004</td>\n",
       "      <td>97.459999</td>\n",
       "      <td>...</td>\n",
       "      <td>300.000000</td>\n",
       "      <td>303.500000</td>\n",
       "      <td>303.500000</td>\n",
       "      <td>6912100.0</td>\n",
       "      <td>100.839996</td>\n",
       "      <td>103.489998</td>\n",
       "      <td>100.750000</td>\n",
       "      <td>102.459999</td>\n",
       "      <td>102.459999</td>\n",
       "      <td>76109100.0</td>\n",
       "    </tr>\n",
       "  </tbody>\n",
       "</table>\n",
       "<p>5839 rows × 31 columns</p>\n",
       "</div>"
      ],
      "text/plain": [
       "           Date      Open_m      High_m       Low_m     Close_m  Adj Close_m  \\\n",
       "0    2000-01-03   58.687500   59.312500   56.000000   58.281250    36.361576   \n",
       "1    2000-01-04   56.781250   58.562500   56.125000   56.312500    35.133263   \n",
       "2    2000-01-05   55.562500   58.187500   54.687500   56.906250    35.503712   \n",
       "3    2000-01-06   56.093750   56.937500   54.187500   55.000000    34.314400   \n",
       "4    2000-01-07   54.312500   56.125000   53.656250   55.718750    34.762833   \n",
       "...         ...         ...         ...         ...         ...          ...   \n",
       "5834 2023-03-13  247.399994  257.910004  245.729996  253.919998   253.919998   \n",
       "5835 2023-03-14  256.750000  261.070007  255.860001  260.790009   260.790009   \n",
       "5836 2023-03-15  259.980011  266.480011  259.209991  265.440002   265.440002   \n",
       "5837 2023-03-16  265.209991  276.559998  263.279999  276.200012   276.200012   \n",
       "5838 2023-03-17  278.260010  283.329987  276.320007  279.429993   279.429993   \n",
       "\n",
       "      Volume_m    Open_am     High_am     Low_am  ...       Low_n     Close_n  \\\n",
       "0     53228400   4.075000    4.478125   3.952344  ...         NaN         NaN   \n",
       "1     54119000   4.268750    4.575000   4.087500  ...         NaN         NaN   \n",
       "2     64059600   3.525000    3.756250   3.400000  ...         NaN         NaN   \n",
       "3     54976600   3.565625    3.634375   3.200000  ...         NaN         NaN   \n",
       "4     62013600   3.350000    3.525000   3.309375  ...         NaN         NaN   \n",
       "...        ...        ...         ...        ...  ...         ...         ...   \n",
       "5834  33339700  89.970001   94.019997  88.120003  ...  285.329987  293.510010   \n",
       "5835  33620300  93.830002   95.070000  92.709999  ...  290.309998  294.940002   \n",
       "5836  46028000  93.220001   96.669998  93.070000  ...  292.279999  303.790009   \n",
       "5837  54768800  95.750000  100.989998  95.610001  ...  301.709991  310.059998   \n",
       "5838  69492200  99.790001  100.660004  97.459999  ...  300.000000  303.500000   \n",
       "\n",
       "      Adj Close_n   Volume_n      Open_g      High_g       Low_g     Close_g  \\\n",
       "0             NaN        NaN         NaN         NaN         NaN         NaN   \n",
       "1             NaN        NaN         NaN         NaN         NaN         NaN   \n",
       "2             NaN        NaN         NaN         NaN         NaN         NaN   \n",
       "3             NaN        NaN         NaN         NaN         NaN         NaN   \n",
       "4             NaN        NaN         NaN         NaN         NaN         NaN   \n",
       "...           ...        ...         ...         ...         ...         ...   \n",
       "5834   293.510010  6292400.0   90.565002   93.080002   89.940002   91.660004   \n",
       "5835   294.940002  5956700.0   93.070000   94.830002   92.779999   94.250000   \n",
       "5836   303.790009  9215300.0   93.540001   97.250000   93.040001   96.550003   \n",
       "5837   310.059998  7903700.0   96.570000  101.970001   95.870003  101.070000   \n",
       "5838   303.500000  6912100.0  100.839996  103.489998  100.750000  102.459999   \n",
       "\n",
       "      Adj Close_g    Volume_g  \n",
       "0             NaN         NaN  \n",
       "1             NaN         NaN  \n",
       "2             NaN         NaN  \n",
       "3             NaN         NaN  \n",
       "4             NaN         NaN  \n",
       "...           ...         ...  \n",
       "5834    91.660004  31508600.0  \n",
       "5835    94.250000  32303900.0  \n",
       "5836    96.550003  38367300.0  \n",
       "5837   101.070000  54499500.0  \n",
       "5838   102.459999  76109100.0  \n",
       "\n",
       "[5839 rows x 31 columns]"
      ]
     },
     "execution_count": 16,
     "metadata": {},
     "output_type": "execute_result"
    }
   ],
   "source": [
    "merged_df"
   ]
  },
  {
   "cell_type": "markdown",
   "metadata": {},
   "source": [
    "**Let's see what we did.**\n",
    "- We added suffixes to the column names of each DataFrame using the `add_suffix()` method. This helps us distinguish the columns from different companies when we merge them later.\n",
    "- We used the `pd.merge()` function to merge the DataFrames based on the \"Date\" column. The `how='outer'` parameter specifies that we want to perform an outer join, which means we will retain all the rows from all DataFrames, even if they don't have matching \"Date\" values.\n",
    "- We performed a series of `pd.merge()` operations to merge all the DataFrames one by one. The result is stored in the `merged_df` DataFrame.\n",
    "- After merging all the DataFrames, we dropped the duplicate \"Date\" columns that were created during the merging process. We only kept the \"Date_m\" column, which represents the \"Date\" column from the Microsoft DataFrame. We rearrange the order of the columns so that the \"Date_m\" column is the first column.\n",
    "*`inplace=True` is used with the `drop()` method to remove the duplicate \"Date\" columns. Instead of returning a new DataFrame with the duplicate columns removed, it modifies the `merged_df` DataFrame directly, which means the DataFrame will be updated in place, and the duplicate columns will be removed from `merged_df` without having to reassign the result to a new variable.*\n",
    "\n",
    "**Note:** The code above will run only once, it will not run later again as we change the names of columns and keep `inplace = True`. To run this code again use the feature `Restart and run all` in the `Kernel` tab."
   ]
  },
  {
   "cell_type": "markdown",
   "metadata": {},
   "source": [
    "**4.** We can clearly see that not all the 5 companies' data are available for the same period of time and have `NaN` (not a number) value. Let's handle this..."
   ]
  },
  {
   "cell_type": "markdown",
   "metadata": {},
   "source": [
    "To handle the `NaN` values, we need to keep only the rows of time period when the data for all the 5 companies are available."
   ]
  },
  {
   "cell_type": "code",
   "execution_count": 17,
   "metadata": {
    "scrolled": true
   },
   "outputs": [
    {
     "data": {
      "text/html": [
       "<div>\n",
       "<style scoped>\n",
       "    .dataframe tbody tr th:only-of-type {\n",
       "        vertical-align: middle;\n",
       "    }\n",
       "\n",
       "    .dataframe tbody tr th {\n",
       "        vertical-align: top;\n",
       "    }\n",
       "\n",
       "    .dataframe thead th {\n",
       "        text-align: right;\n",
       "    }\n",
       "</style>\n",
       "<table border=\"1\" class=\"dataframe\">\n",
       "  <thead>\n",
       "    <tr style=\"text-align: right;\">\n",
       "      <th></th>\n",
       "      <th>Date</th>\n",
       "      <th>Open_m</th>\n",
       "      <th>High_m</th>\n",
       "      <th>Low_m</th>\n",
       "      <th>Close_m</th>\n",
       "      <th>Adj Close_m</th>\n",
       "      <th>Volume_m</th>\n",
       "      <th>Open_am</th>\n",
       "      <th>High_am</th>\n",
       "      <th>Low_am</th>\n",
       "      <th>...</th>\n",
       "      <th>Low_n</th>\n",
       "      <th>Close_n</th>\n",
       "      <th>Adj Close_n</th>\n",
       "      <th>Volume_n</th>\n",
       "      <th>Open_g</th>\n",
       "      <th>High_g</th>\n",
       "      <th>Low_g</th>\n",
       "      <th>Close_g</th>\n",
       "      <th>Adj Close_g</th>\n",
       "      <th>Volume_g</th>\n",
       "    </tr>\n",
       "  </thead>\n",
       "  <tbody>\n",
       "    <tr>\n",
       "      <th>0</th>\n",
       "      <td>2004-08-19</td>\n",
       "      <td>27.350000</td>\n",
       "      <td>27.450001</td>\n",
       "      <td>27.010000</td>\n",
       "      <td>27.120001</td>\n",
       "      <td>17.069757</td>\n",
       "      <td>46293000</td>\n",
       "      <td>2.013000</td>\n",
       "      <td>2.024000</td>\n",
       "      <td>1.817500</td>\n",
       "      <td>...</td>\n",
       "      <td>2.200000</td>\n",
       "      <td>2.264286</td>\n",
       "      <td>2.264286</td>\n",
       "      <td>5969600.0</td>\n",
       "      <td>2.490664</td>\n",
       "      <td>2.591785</td>\n",
       "      <td>2.390042</td>\n",
       "      <td>2.499133</td>\n",
       "      <td>2.499133</td>\n",
       "      <td>897427216.0</td>\n",
       "    </tr>\n",
       "    <tr>\n",
       "      <th>1</th>\n",
       "      <td>2004-08-20</td>\n",
       "      <td>27.129999</td>\n",
       "      <td>27.370001</td>\n",
       "      <td>27.040001</td>\n",
       "      <td>27.200001</td>\n",
       "      <td>17.120106</td>\n",
       "      <td>46494800</td>\n",
       "      <td>1.923000</td>\n",
       "      <td>1.995500</td>\n",
       "      <td>1.905500</td>\n",
       "      <td>...</td>\n",
       "      <td>2.221429</td>\n",
       "      <td>2.262857</td>\n",
       "      <td>2.262857</td>\n",
       "      <td>7652400.0</td>\n",
       "      <td>2.515820</td>\n",
       "      <td>2.716817</td>\n",
       "      <td>2.503118</td>\n",
       "      <td>2.697639</td>\n",
       "      <td>2.697639</td>\n",
       "      <td>458857488.0</td>\n",
       "    </tr>\n",
       "    <tr>\n",
       "      <th>2</th>\n",
       "      <td>2004-08-23</td>\n",
       "      <td>27.270000</td>\n",
       "      <td>27.330000</td>\n",
       "      <td>27.120001</td>\n",
       "      <td>27.240000</td>\n",
       "      <td>17.195858</td>\n",
       "      <td>39572200</td>\n",
       "      <td>1.994500</td>\n",
       "      <td>2.000000</td>\n",
       "      <td>1.955500</td>\n",
       "      <td>...</td>\n",
       "      <td>2.235714</td>\n",
       "      <td>2.272857</td>\n",
       "      <td>2.272857</td>\n",
       "      <td>5951400.0</td>\n",
       "      <td>2.758411</td>\n",
       "      <td>2.826406</td>\n",
       "      <td>2.716070</td>\n",
       "      <td>2.724787</td>\n",
       "      <td>2.724787</td>\n",
       "      <td>366857939.0</td>\n",
       "    </tr>\n",
       "    <tr>\n",
       "      <th>3</th>\n",
       "      <td>2004-08-24</td>\n",
       "      <td>27.400000</td>\n",
       "      <td>27.459999</td>\n",
       "      <td>27.090000</td>\n",
       "      <td>27.240000</td>\n",
       "      <td>17.195858</td>\n",
       "      <td>40835300</td>\n",
       "      <td>1.986000</td>\n",
       "      <td>1.996500</td>\n",
       "      <td>1.916000</td>\n",
       "      <td>...</td>\n",
       "      <td>2.178571</td>\n",
       "      <td>2.208571</td>\n",
       "      <td>2.208571</td>\n",
       "      <td>7220500.0</td>\n",
       "      <td>2.770615</td>\n",
       "      <td>2.779581</td>\n",
       "      <td>2.579581</td>\n",
       "      <td>2.611960</td>\n",
       "      <td>2.611960</td>\n",
       "      <td>306396159.0</td>\n",
       "    </tr>\n",
       "    <tr>\n",
       "      <th>4</th>\n",
       "      <td>2004-08-25</td>\n",
       "      <td>27.209999</td>\n",
       "      <td>27.670000</td>\n",
       "      <td>27.180000</td>\n",
       "      <td>27.549999</td>\n",
       "      <td>17.391554</td>\n",
       "      <td>53512700</td>\n",
       "      <td>1.953000</td>\n",
       "      <td>2.024500</td>\n",
       "      <td>1.908000</td>\n",
       "      <td>...</td>\n",
       "      <td>2.180000</td>\n",
       "      <td>2.238571</td>\n",
       "      <td>2.238571</td>\n",
       "      <td>7523600.0</td>\n",
       "      <td>2.614201</td>\n",
       "      <td>2.689918</td>\n",
       "      <td>2.587302</td>\n",
       "      <td>2.640104</td>\n",
       "      <td>2.640104</td>\n",
       "      <td>184645512.0</td>\n",
       "    </tr>\n",
       "    <tr>\n",
       "      <th>...</th>\n",
       "      <td>...</td>\n",
       "      <td>...</td>\n",
       "      <td>...</td>\n",
       "      <td>...</td>\n",
       "      <td>...</td>\n",
       "      <td>...</td>\n",
       "      <td>...</td>\n",
       "      <td>...</td>\n",
       "      <td>...</td>\n",
       "      <td>...</td>\n",
       "      <td>...</td>\n",
       "      <td>...</td>\n",
       "      <td>...</td>\n",
       "      <td>...</td>\n",
       "      <td>...</td>\n",
       "      <td>...</td>\n",
       "      <td>...</td>\n",
       "      <td>...</td>\n",
       "      <td>...</td>\n",
       "      <td>...</td>\n",
       "      <td>...</td>\n",
       "    </tr>\n",
       "    <tr>\n",
       "      <th>4672</th>\n",
       "      <td>2023-03-13</td>\n",
       "      <td>247.399994</td>\n",
       "      <td>257.910004</td>\n",
       "      <td>245.729996</td>\n",
       "      <td>253.919998</td>\n",
       "      <td>253.919998</td>\n",
       "      <td>33339700</td>\n",
       "      <td>89.970001</td>\n",
       "      <td>94.019997</td>\n",
       "      <td>88.120003</td>\n",
       "      <td>...</td>\n",
       "      <td>285.329987</td>\n",
       "      <td>293.510010</td>\n",
       "      <td>293.510010</td>\n",
       "      <td>6292400.0</td>\n",
       "      <td>90.565002</td>\n",
       "      <td>93.080002</td>\n",
       "      <td>89.940002</td>\n",
       "      <td>91.660004</td>\n",
       "      <td>91.660004</td>\n",
       "      <td>31508600.0</td>\n",
       "    </tr>\n",
       "    <tr>\n",
       "      <th>4673</th>\n",
       "      <td>2023-03-14</td>\n",
       "      <td>256.750000</td>\n",
       "      <td>261.070007</td>\n",
       "      <td>255.860001</td>\n",
       "      <td>260.790009</td>\n",
       "      <td>260.790009</td>\n",
       "      <td>33620300</td>\n",
       "      <td>93.830002</td>\n",
       "      <td>95.070000</td>\n",
       "      <td>92.709999</td>\n",
       "      <td>...</td>\n",
       "      <td>290.309998</td>\n",
       "      <td>294.940002</td>\n",
       "      <td>294.940002</td>\n",
       "      <td>5956700.0</td>\n",
       "      <td>93.070000</td>\n",
       "      <td>94.830002</td>\n",
       "      <td>92.779999</td>\n",
       "      <td>94.250000</td>\n",
       "      <td>94.250000</td>\n",
       "      <td>32303900.0</td>\n",
       "    </tr>\n",
       "    <tr>\n",
       "      <th>4674</th>\n",
       "      <td>2023-03-15</td>\n",
       "      <td>259.980011</td>\n",
       "      <td>266.480011</td>\n",
       "      <td>259.209991</td>\n",
       "      <td>265.440002</td>\n",
       "      <td>265.440002</td>\n",
       "      <td>46028000</td>\n",
       "      <td>93.220001</td>\n",
       "      <td>96.669998</td>\n",
       "      <td>93.070000</td>\n",
       "      <td>...</td>\n",
       "      <td>292.279999</td>\n",
       "      <td>303.790009</td>\n",
       "      <td>303.790009</td>\n",
       "      <td>9215300.0</td>\n",
       "      <td>93.540001</td>\n",
       "      <td>97.250000</td>\n",
       "      <td>93.040001</td>\n",
       "      <td>96.550003</td>\n",
       "      <td>96.550003</td>\n",
       "      <td>38367300.0</td>\n",
       "    </tr>\n",
       "    <tr>\n",
       "      <th>4675</th>\n",
       "      <td>2023-03-16</td>\n",
       "      <td>265.209991</td>\n",
       "      <td>276.559998</td>\n",
       "      <td>263.279999</td>\n",
       "      <td>276.200012</td>\n",
       "      <td>276.200012</td>\n",
       "      <td>54768800</td>\n",
       "      <td>95.750000</td>\n",
       "      <td>100.989998</td>\n",
       "      <td>95.610001</td>\n",
       "      <td>...</td>\n",
       "      <td>301.709991</td>\n",
       "      <td>310.059998</td>\n",
       "      <td>310.059998</td>\n",
       "      <td>7903700.0</td>\n",
       "      <td>96.570000</td>\n",
       "      <td>101.970001</td>\n",
       "      <td>95.870003</td>\n",
       "      <td>101.070000</td>\n",
       "      <td>101.070000</td>\n",
       "      <td>54499500.0</td>\n",
       "    </tr>\n",
       "    <tr>\n",
       "      <th>4676</th>\n",
       "      <td>2023-03-17</td>\n",
       "      <td>278.260010</td>\n",
       "      <td>283.329987</td>\n",
       "      <td>276.320007</td>\n",
       "      <td>279.429993</td>\n",
       "      <td>279.429993</td>\n",
       "      <td>69492200</td>\n",
       "      <td>99.790001</td>\n",
       "      <td>100.660004</td>\n",
       "      <td>97.459999</td>\n",
       "      <td>...</td>\n",
       "      <td>300.000000</td>\n",
       "      <td>303.500000</td>\n",
       "      <td>303.500000</td>\n",
       "      <td>6912100.0</td>\n",
       "      <td>100.839996</td>\n",
       "      <td>103.489998</td>\n",
       "      <td>100.750000</td>\n",
       "      <td>102.459999</td>\n",
       "      <td>102.459999</td>\n",
       "      <td>76109100.0</td>\n",
       "    </tr>\n",
       "  </tbody>\n",
       "</table>\n",
       "<p>4677 rows × 31 columns</p>\n",
       "</div>"
      ],
      "text/plain": [
       "           Date      Open_m      High_m       Low_m     Close_m  Adj Close_m  \\\n",
       "0    2004-08-19   27.350000   27.450001   27.010000   27.120001    17.069757   \n",
       "1    2004-08-20   27.129999   27.370001   27.040001   27.200001    17.120106   \n",
       "2    2004-08-23   27.270000   27.330000   27.120001   27.240000    17.195858   \n",
       "3    2004-08-24   27.400000   27.459999   27.090000   27.240000    17.195858   \n",
       "4    2004-08-25   27.209999   27.670000   27.180000   27.549999    17.391554   \n",
       "...         ...         ...         ...         ...         ...          ...   \n",
       "4672 2023-03-13  247.399994  257.910004  245.729996  253.919998   253.919998   \n",
       "4673 2023-03-14  256.750000  261.070007  255.860001  260.790009   260.790009   \n",
       "4674 2023-03-15  259.980011  266.480011  259.209991  265.440002   265.440002   \n",
       "4675 2023-03-16  265.209991  276.559998  263.279999  276.200012   276.200012   \n",
       "4676 2023-03-17  278.260010  283.329987  276.320007  279.429993   279.429993   \n",
       "\n",
       "      Volume_m    Open_am     High_am     Low_am  ...       Low_n     Close_n  \\\n",
       "0     46293000   2.013000    2.024000   1.817500  ...    2.200000    2.264286   \n",
       "1     46494800   1.923000    1.995500   1.905500  ...    2.221429    2.262857   \n",
       "2     39572200   1.994500    2.000000   1.955500  ...    2.235714    2.272857   \n",
       "3     40835300   1.986000    1.996500   1.916000  ...    2.178571    2.208571   \n",
       "4     53512700   1.953000    2.024500   1.908000  ...    2.180000    2.238571   \n",
       "...        ...        ...         ...        ...  ...         ...         ...   \n",
       "4672  33339700  89.970001   94.019997  88.120003  ...  285.329987  293.510010   \n",
       "4673  33620300  93.830002   95.070000  92.709999  ...  290.309998  294.940002   \n",
       "4674  46028000  93.220001   96.669998  93.070000  ...  292.279999  303.790009   \n",
       "4675  54768800  95.750000  100.989998  95.610001  ...  301.709991  310.059998   \n",
       "4676  69492200  99.790001  100.660004  97.459999  ...  300.000000  303.500000   \n",
       "\n",
       "      Adj Close_n   Volume_n      Open_g      High_g       Low_g     Close_g  \\\n",
       "0        2.264286  5969600.0    2.490664    2.591785    2.390042    2.499133   \n",
       "1        2.262857  7652400.0    2.515820    2.716817    2.503118    2.697639   \n",
       "2        2.272857  5951400.0    2.758411    2.826406    2.716070    2.724787   \n",
       "3        2.208571  7220500.0    2.770615    2.779581    2.579581    2.611960   \n",
       "4        2.238571  7523600.0    2.614201    2.689918    2.587302    2.640104   \n",
       "...           ...        ...         ...         ...         ...         ...   \n",
       "4672   293.510010  6292400.0   90.565002   93.080002   89.940002   91.660004   \n",
       "4673   294.940002  5956700.0   93.070000   94.830002   92.779999   94.250000   \n",
       "4674   303.790009  9215300.0   93.540001   97.250000   93.040001   96.550003   \n",
       "4675   310.059998  7903700.0   96.570000  101.970001   95.870003  101.070000   \n",
       "4676   303.500000  6912100.0  100.839996  103.489998  100.750000  102.459999   \n",
       "\n",
       "      Adj Close_g     Volume_g  \n",
       "0        2.499133  897427216.0  \n",
       "1        2.697639  458857488.0  \n",
       "2        2.724787  366857939.0  \n",
       "3        2.611960  306396159.0  \n",
       "4        2.640104  184645512.0  \n",
       "...           ...          ...  \n",
       "4672    91.660004   31508600.0  \n",
       "4673    94.250000   32303900.0  \n",
       "4674    96.550003   38367300.0  \n",
       "4675   101.070000   54499500.0  \n",
       "4676   102.459999   76109100.0  \n",
       "\n",
       "[4677 rows x 31 columns]"
      ]
     },
     "execution_count": 17,
     "metadata": {},
     "output_type": "execute_result"
    }
   ],
   "source": [
    "# Drop rows with any NaN values in any column\n",
    "merged_df.dropna(inplace=True)\n",
    "\n",
    "# Reset the index\n",
    "merged_df.reset_index(drop=True, inplace=True)\n",
    "\n",
    "# Get new dataframe\n",
    "merged_df"
   ]
  },
  {
   "cell_type": "markdown",
   "metadata": {},
   "source": [
    "**Let's see what we did.**\n",
    "- We use the `dropna()` method with `inplace=True` to remove any rows that contain at least one `NaN` value in any column. After this step, the DataFrame will only contain rows where data is available for all five companies on the same dates.\n",
    "- We reset the index to ensure a continuous integer index for the DataFrame."
   ]
  },
  {
   "cell_type": "markdown",
   "metadata": {},
   "source": [
    "**5.** I want to have Date column as the index column, let's do it in the next step."
   ]
  },
  {
   "cell_type": "code",
   "execution_count": 18,
   "metadata": {
    "scrolled": true
   },
   "outputs": [
    {
     "data": {
      "text/html": [
       "<div>\n",
       "<style scoped>\n",
       "    .dataframe tbody tr th:only-of-type {\n",
       "        vertical-align: middle;\n",
       "    }\n",
       "\n",
       "    .dataframe tbody tr th {\n",
       "        vertical-align: top;\n",
       "    }\n",
       "\n",
       "    .dataframe thead th {\n",
       "        text-align: right;\n",
       "    }\n",
       "</style>\n",
       "<table border=\"1\" class=\"dataframe\">\n",
       "  <thead>\n",
       "    <tr style=\"text-align: right;\">\n",
       "      <th></th>\n",
       "      <th>Open_m</th>\n",
       "      <th>High_m</th>\n",
       "      <th>Low_m</th>\n",
       "      <th>Close_m</th>\n",
       "      <th>Adj Close_m</th>\n",
       "      <th>Volume_m</th>\n",
       "      <th>Open_am</th>\n",
       "      <th>High_am</th>\n",
       "      <th>Low_am</th>\n",
       "      <th>Close_am</th>\n",
       "      <th>...</th>\n",
       "      <th>Low_n</th>\n",
       "      <th>Close_n</th>\n",
       "      <th>Adj Close_n</th>\n",
       "      <th>Volume_n</th>\n",
       "      <th>Open_g</th>\n",
       "      <th>High_g</th>\n",
       "      <th>Low_g</th>\n",
       "      <th>Close_g</th>\n",
       "      <th>Adj Close_g</th>\n",
       "      <th>Volume_g</th>\n",
       "    </tr>\n",
       "    <tr>\n",
       "      <th>Date</th>\n",
       "      <th></th>\n",
       "      <th></th>\n",
       "      <th></th>\n",
       "      <th></th>\n",
       "      <th></th>\n",
       "      <th></th>\n",
       "      <th></th>\n",
       "      <th></th>\n",
       "      <th></th>\n",
       "      <th></th>\n",
       "      <th></th>\n",
       "      <th></th>\n",
       "      <th></th>\n",
       "      <th></th>\n",
       "      <th></th>\n",
       "      <th></th>\n",
       "      <th></th>\n",
       "      <th></th>\n",
       "      <th></th>\n",
       "      <th></th>\n",
       "      <th></th>\n",
       "    </tr>\n",
       "  </thead>\n",
       "  <tbody>\n",
       "    <tr>\n",
       "      <th>2004-08-19</th>\n",
       "      <td>27.350000</td>\n",
       "      <td>27.450001</td>\n",
       "      <td>27.010000</td>\n",
       "      <td>27.120001</td>\n",
       "      <td>17.069757</td>\n",
       "      <td>46293000</td>\n",
       "      <td>2.013000</td>\n",
       "      <td>2.024000</td>\n",
       "      <td>1.817500</td>\n",
       "      <td>1.931500</td>\n",
       "      <td>...</td>\n",
       "      <td>2.200000</td>\n",
       "      <td>2.264286</td>\n",
       "      <td>2.264286</td>\n",
       "      <td>5969600.0</td>\n",
       "      <td>2.490664</td>\n",
       "      <td>2.591785</td>\n",
       "      <td>2.390042</td>\n",
       "      <td>2.499133</td>\n",
       "      <td>2.499133</td>\n",
       "      <td>897427216.0</td>\n",
       "    </tr>\n",
       "    <tr>\n",
       "      <th>2004-08-20</th>\n",
       "      <td>27.129999</td>\n",
       "      <td>27.370001</td>\n",
       "      <td>27.040001</td>\n",
       "      <td>27.200001</td>\n",
       "      <td>17.120106</td>\n",
       "      <td>46494800</td>\n",
       "      <td>1.923000</td>\n",
       "      <td>1.995500</td>\n",
       "      <td>1.905500</td>\n",
       "      <td>1.975500</td>\n",
       "      <td>...</td>\n",
       "      <td>2.221429</td>\n",
       "      <td>2.262857</td>\n",
       "      <td>2.262857</td>\n",
       "      <td>7652400.0</td>\n",
       "      <td>2.515820</td>\n",
       "      <td>2.716817</td>\n",
       "      <td>2.503118</td>\n",
       "      <td>2.697639</td>\n",
       "      <td>2.697639</td>\n",
       "      <td>458857488.0</td>\n",
       "    </tr>\n",
       "    <tr>\n",
       "      <th>2004-08-23</th>\n",
       "      <td>27.270000</td>\n",
       "      <td>27.330000</td>\n",
       "      <td>27.120001</td>\n",
       "      <td>27.240000</td>\n",
       "      <td>17.195858</td>\n",
       "      <td>39572200</td>\n",
       "      <td>1.994500</td>\n",
       "      <td>2.000000</td>\n",
       "      <td>1.955500</td>\n",
       "      <td>1.972500</td>\n",
       "      <td>...</td>\n",
       "      <td>2.235714</td>\n",
       "      <td>2.272857</td>\n",
       "      <td>2.272857</td>\n",
       "      <td>5951400.0</td>\n",
       "      <td>2.758411</td>\n",
       "      <td>2.826406</td>\n",
       "      <td>2.716070</td>\n",
       "      <td>2.724787</td>\n",
       "      <td>2.724787</td>\n",
       "      <td>366857939.0</td>\n",
       "    </tr>\n",
       "    <tr>\n",
       "      <th>2004-08-24</th>\n",
       "      <td>27.400000</td>\n",
       "      <td>27.459999</td>\n",
       "      <td>27.090000</td>\n",
       "      <td>27.240000</td>\n",
       "      <td>17.195858</td>\n",
       "      <td>40835300</td>\n",
       "      <td>1.986000</td>\n",
       "      <td>1.996500</td>\n",
       "      <td>1.916000</td>\n",
       "      <td>1.952500</td>\n",
       "      <td>...</td>\n",
       "      <td>2.178571</td>\n",
       "      <td>2.208571</td>\n",
       "      <td>2.208571</td>\n",
       "      <td>7220500.0</td>\n",
       "      <td>2.770615</td>\n",
       "      <td>2.779581</td>\n",
       "      <td>2.579581</td>\n",
       "      <td>2.611960</td>\n",
       "      <td>2.611960</td>\n",
       "      <td>306396159.0</td>\n",
       "    </tr>\n",
       "    <tr>\n",
       "      <th>2004-08-25</th>\n",
       "      <td>27.209999</td>\n",
       "      <td>27.670000</td>\n",
       "      <td>27.180000</td>\n",
       "      <td>27.549999</td>\n",
       "      <td>17.391554</td>\n",
       "      <td>53512700</td>\n",
       "      <td>1.953000</td>\n",
       "      <td>2.024500</td>\n",
       "      <td>1.908000</td>\n",
       "      <td>2.015000</td>\n",
       "      <td>...</td>\n",
       "      <td>2.180000</td>\n",
       "      <td>2.238571</td>\n",
       "      <td>2.238571</td>\n",
       "      <td>7523600.0</td>\n",
       "      <td>2.614201</td>\n",
       "      <td>2.689918</td>\n",
       "      <td>2.587302</td>\n",
       "      <td>2.640104</td>\n",
       "      <td>2.640104</td>\n",
       "      <td>184645512.0</td>\n",
       "    </tr>\n",
       "    <tr>\n",
       "      <th>...</th>\n",
       "      <td>...</td>\n",
       "      <td>...</td>\n",
       "      <td>...</td>\n",
       "      <td>...</td>\n",
       "      <td>...</td>\n",
       "      <td>...</td>\n",
       "      <td>...</td>\n",
       "      <td>...</td>\n",
       "      <td>...</td>\n",
       "      <td>...</td>\n",
       "      <td>...</td>\n",
       "      <td>...</td>\n",
       "      <td>...</td>\n",
       "      <td>...</td>\n",
       "      <td>...</td>\n",
       "      <td>...</td>\n",
       "      <td>...</td>\n",
       "      <td>...</td>\n",
       "      <td>...</td>\n",
       "      <td>...</td>\n",
       "      <td>...</td>\n",
       "    </tr>\n",
       "    <tr>\n",
       "      <th>2023-03-13</th>\n",
       "      <td>247.399994</td>\n",
       "      <td>257.910004</td>\n",
       "      <td>245.729996</td>\n",
       "      <td>253.919998</td>\n",
       "      <td>253.919998</td>\n",
       "      <td>33339700</td>\n",
       "      <td>89.970001</td>\n",
       "      <td>94.019997</td>\n",
       "      <td>88.120003</td>\n",
       "      <td>92.430000</td>\n",
       "      <td>...</td>\n",
       "      <td>285.329987</td>\n",
       "      <td>293.510010</td>\n",
       "      <td>293.510010</td>\n",
       "      <td>6292400.0</td>\n",
       "      <td>90.565002</td>\n",
       "      <td>93.080002</td>\n",
       "      <td>89.940002</td>\n",
       "      <td>91.660004</td>\n",
       "      <td>91.660004</td>\n",
       "      <td>31508600.0</td>\n",
       "    </tr>\n",
       "    <tr>\n",
       "      <th>2023-03-14</th>\n",
       "      <td>256.750000</td>\n",
       "      <td>261.070007</td>\n",
       "      <td>255.860001</td>\n",
       "      <td>260.790009</td>\n",
       "      <td>260.790009</td>\n",
       "      <td>33620300</td>\n",
       "      <td>93.830002</td>\n",
       "      <td>95.070000</td>\n",
       "      <td>92.709999</td>\n",
       "      <td>94.879997</td>\n",
       "      <td>...</td>\n",
       "      <td>290.309998</td>\n",
       "      <td>294.940002</td>\n",
       "      <td>294.940002</td>\n",
       "      <td>5956700.0</td>\n",
       "      <td>93.070000</td>\n",
       "      <td>94.830002</td>\n",
       "      <td>92.779999</td>\n",
       "      <td>94.250000</td>\n",
       "      <td>94.250000</td>\n",
       "      <td>32303900.0</td>\n",
       "    </tr>\n",
       "    <tr>\n",
       "      <th>2023-03-15</th>\n",
       "      <td>259.980011</td>\n",
       "      <td>266.480011</td>\n",
       "      <td>259.209991</td>\n",
       "      <td>265.440002</td>\n",
       "      <td>265.440002</td>\n",
       "      <td>46028000</td>\n",
       "      <td>93.220001</td>\n",
       "      <td>96.669998</td>\n",
       "      <td>93.070000</td>\n",
       "      <td>96.199997</td>\n",
       "      <td>...</td>\n",
       "      <td>292.279999</td>\n",
       "      <td>303.790009</td>\n",
       "      <td>303.790009</td>\n",
       "      <td>9215300.0</td>\n",
       "      <td>93.540001</td>\n",
       "      <td>97.250000</td>\n",
       "      <td>93.040001</td>\n",
       "      <td>96.550003</td>\n",
       "      <td>96.550003</td>\n",
       "      <td>38367300.0</td>\n",
       "    </tr>\n",
       "    <tr>\n",
       "      <th>2023-03-16</th>\n",
       "      <td>265.209991</td>\n",
       "      <td>276.559998</td>\n",
       "      <td>263.279999</td>\n",
       "      <td>276.200012</td>\n",
       "      <td>276.200012</td>\n",
       "      <td>54768800</td>\n",
       "      <td>95.750000</td>\n",
       "      <td>100.989998</td>\n",
       "      <td>95.610001</td>\n",
       "      <td>100.040001</td>\n",
       "      <td>...</td>\n",
       "      <td>301.709991</td>\n",
       "      <td>310.059998</td>\n",
       "      <td>310.059998</td>\n",
       "      <td>7903700.0</td>\n",
       "      <td>96.570000</td>\n",
       "      <td>101.970001</td>\n",
       "      <td>95.870003</td>\n",
       "      <td>101.070000</td>\n",
       "      <td>101.070000</td>\n",
       "      <td>54499500.0</td>\n",
       "    </tr>\n",
       "    <tr>\n",
       "      <th>2023-03-17</th>\n",
       "      <td>278.260010</td>\n",
       "      <td>283.329987</td>\n",
       "      <td>276.320007</td>\n",
       "      <td>279.429993</td>\n",
       "      <td>279.429993</td>\n",
       "      <td>69492200</td>\n",
       "      <td>99.790001</td>\n",
       "      <td>100.660004</td>\n",
       "      <td>97.459999</td>\n",
       "      <td>98.949997</td>\n",
       "      <td>...</td>\n",
       "      <td>300.000000</td>\n",
       "      <td>303.500000</td>\n",
       "      <td>303.500000</td>\n",
       "      <td>6912100.0</td>\n",
       "      <td>100.839996</td>\n",
       "      <td>103.489998</td>\n",
       "      <td>100.750000</td>\n",
       "      <td>102.459999</td>\n",
       "      <td>102.459999</td>\n",
       "      <td>76109100.0</td>\n",
       "    </tr>\n",
       "  </tbody>\n",
       "</table>\n",
       "<p>4677 rows × 30 columns</p>\n",
       "</div>"
      ],
      "text/plain": [
       "                Open_m      High_m       Low_m     Close_m  Adj Close_m  \\\n",
       "Date                                                                      \n",
       "2004-08-19   27.350000   27.450001   27.010000   27.120001    17.069757   \n",
       "2004-08-20   27.129999   27.370001   27.040001   27.200001    17.120106   \n",
       "2004-08-23   27.270000   27.330000   27.120001   27.240000    17.195858   \n",
       "2004-08-24   27.400000   27.459999   27.090000   27.240000    17.195858   \n",
       "2004-08-25   27.209999   27.670000   27.180000   27.549999    17.391554   \n",
       "...                ...         ...         ...         ...          ...   \n",
       "2023-03-13  247.399994  257.910004  245.729996  253.919998   253.919998   \n",
       "2023-03-14  256.750000  261.070007  255.860001  260.790009   260.790009   \n",
       "2023-03-15  259.980011  266.480011  259.209991  265.440002   265.440002   \n",
       "2023-03-16  265.209991  276.559998  263.279999  276.200012   276.200012   \n",
       "2023-03-17  278.260010  283.329987  276.320007  279.429993   279.429993   \n",
       "\n",
       "            Volume_m    Open_am     High_am     Low_am    Close_am  ...  \\\n",
       "Date                                                                ...   \n",
       "2004-08-19  46293000   2.013000    2.024000   1.817500    1.931500  ...   \n",
       "2004-08-20  46494800   1.923000    1.995500   1.905500    1.975500  ...   \n",
       "2004-08-23  39572200   1.994500    2.000000   1.955500    1.972500  ...   \n",
       "2004-08-24  40835300   1.986000    1.996500   1.916000    1.952500  ...   \n",
       "2004-08-25  53512700   1.953000    2.024500   1.908000    2.015000  ...   \n",
       "...              ...        ...         ...        ...         ...  ...   \n",
       "2023-03-13  33339700  89.970001   94.019997  88.120003   92.430000  ...   \n",
       "2023-03-14  33620300  93.830002   95.070000  92.709999   94.879997  ...   \n",
       "2023-03-15  46028000  93.220001   96.669998  93.070000   96.199997  ...   \n",
       "2023-03-16  54768800  95.750000  100.989998  95.610001  100.040001  ...   \n",
       "2023-03-17  69492200  99.790001  100.660004  97.459999   98.949997  ...   \n",
       "\n",
       "                 Low_n     Close_n  Adj Close_n   Volume_n      Open_g  \\\n",
       "Date                                                                     \n",
       "2004-08-19    2.200000    2.264286     2.264286  5969600.0    2.490664   \n",
       "2004-08-20    2.221429    2.262857     2.262857  7652400.0    2.515820   \n",
       "2004-08-23    2.235714    2.272857     2.272857  5951400.0    2.758411   \n",
       "2004-08-24    2.178571    2.208571     2.208571  7220500.0    2.770615   \n",
       "2004-08-25    2.180000    2.238571     2.238571  7523600.0    2.614201   \n",
       "...                ...         ...          ...        ...         ...   \n",
       "2023-03-13  285.329987  293.510010   293.510010  6292400.0   90.565002   \n",
       "2023-03-14  290.309998  294.940002   294.940002  5956700.0   93.070000   \n",
       "2023-03-15  292.279999  303.790009   303.790009  9215300.0   93.540001   \n",
       "2023-03-16  301.709991  310.059998   310.059998  7903700.0   96.570000   \n",
       "2023-03-17  300.000000  303.500000   303.500000  6912100.0  100.839996   \n",
       "\n",
       "                High_g       Low_g     Close_g  Adj Close_g     Volume_g  \n",
       "Date                                                                      \n",
       "2004-08-19    2.591785    2.390042    2.499133     2.499133  897427216.0  \n",
       "2004-08-20    2.716817    2.503118    2.697639     2.697639  458857488.0  \n",
       "2004-08-23    2.826406    2.716070    2.724787     2.724787  366857939.0  \n",
       "2004-08-24    2.779581    2.579581    2.611960     2.611960  306396159.0  \n",
       "2004-08-25    2.689918    2.587302    2.640104     2.640104  184645512.0  \n",
       "...                ...         ...         ...          ...          ...  \n",
       "2023-03-13   93.080002   89.940002   91.660004    91.660004   31508600.0  \n",
       "2023-03-14   94.830002   92.779999   94.250000    94.250000   32303900.0  \n",
       "2023-03-15   97.250000   93.040001   96.550003    96.550003   38367300.0  \n",
       "2023-03-16  101.970001   95.870003  101.070000   101.070000   54499500.0  \n",
       "2023-03-17  103.489998  100.750000  102.459999   102.459999   76109100.0  \n",
       "\n",
       "[4677 rows x 30 columns]"
      ]
     },
     "execution_count": 18,
     "metadata": {},
     "output_type": "execute_result"
    }
   ],
   "source": [
    "merged_df.set_index('Date', inplace=True)\n",
    "# we are using the 'set_index' method to set the index as Date in the dataset\n",
    "merged_df"
   ]
  },
  {
   "cell_type": "code",
   "execution_count": 19,
   "metadata": {},
   "outputs": [],
   "source": [
    "# NOW, WE WILL SAVE OUR PROGRESS\n",
    "import jovian"
   ]
  },
  {
   "cell_type": "code",
   "execution_count": 20,
   "metadata": {},
   "outputs": [
    {
     "data": {
      "application/javascript": [
       "window.require && require([\"base/js/namespace\"],function(Jupyter){Jupyter.notebook.save_checkpoint()})"
      ],
      "text/plain": [
       "<IPython.core.display.Javascript object>"
      ]
     },
     "metadata": {},
     "output_type": "display_data"
    },
    {
     "name": "stdout",
     "output_type": "stream",
     "text": [
      "[jovian] Updating notebook \"rashmin9c/historical-stock-market-data-analysis\" on https://jovian.com\u001b[0m\n",
      "[jovian] Committed successfully! https://jovian.com/rashmin9c/historical-stock-market-data-analysis\u001b[0m\n"
     ]
    },
    {
     "data": {
      "text/plain": [
       "'https://jovian.com/rashmin9c/historical-stock-market-data-analysis'"
      ]
     },
     "execution_count": 20,
     "metadata": {},
     "output_type": "execute_result"
    }
   ],
   "source": [
    "jovian.commit()"
   ]
  },
  {
   "cell_type": "markdown",
   "metadata": {},
   "source": [
    "## Exploratory Analysis and Visualization\n",
    "\n",
    "We perform various tasks to gain insights into the data and visualize key patterns or trends."
   ]
  },
  {
   "cell_type": "markdown",
   "metadata": {},
   "source": [
    "Let's begin by importing`matplotlib.pyplot` and `seaborn`."
   ]
  },
  {
   "cell_type": "code",
   "execution_count": 21,
   "metadata": {},
   "outputs": [],
   "source": [
    "import seaborn as sns\n",
    "import matplotlib\n",
    "import matplotlib.pyplot as plt\n",
    "%matplotlib inline\n",
    "\n",
    "sns.set_style('darkgrid') # sets the type of style for plot\n",
    "matplotlib.rcParams['font.size'] = 14 # sets font size\n",
    "matplotlib.rcParams['figure.figsize'] = (9, 5) # sets figure size\n",
    "matplotlib.rcParams['figure.facecolor'] = '#00000000' #sets face color"
   ]
  },
  {
   "cell_type": "markdown",
   "metadata": {},
   "source": [
    "`%matplotlib inline`: This is a special command used in Jupyter notebooks to display Matplotlib-generated plots directly in the notebook. It enables the inline backend for Matplotlib.\n",
    "Overall, this code snippet sets up the plotting environment with a specific style, font size, figure size, and background color. These settings ensure consistent and visually appealing plots when using Seaborn and Matplotlib.\n",
    "\n",
    "**Note:** *Every graph in this section will have explanation after the plot.*"
   ]
  },
  {
   "cell_type": "markdown",
   "metadata": {},
   "source": [
    "### Data summary"
   ]
  },
  {
   "cell_type": "code",
   "execution_count": 22,
   "metadata": {},
   "outputs": [
    {
     "data": {
      "text/html": [
       "<div>\n",
       "<style scoped>\n",
       "    .dataframe tbody tr th:only-of-type {\n",
       "        vertical-align: middle;\n",
       "    }\n",
       "\n",
       "    .dataframe tbody tr th {\n",
       "        vertical-align: top;\n",
       "    }\n",
       "\n",
       "    .dataframe thead th {\n",
       "        text-align: right;\n",
       "    }\n",
       "</style>\n",
       "<table border=\"1\" class=\"dataframe\">\n",
       "  <thead>\n",
       "    <tr style=\"text-align: right;\">\n",
       "      <th></th>\n",
       "      <th>Open_m</th>\n",
       "      <th>High_m</th>\n",
       "      <th>Low_m</th>\n",
       "      <th>Close_m</th>\n",
       "      <th>Adj Close_m</th>\n",
       "      <th>Volume_m</th>\n",
       "      <th>Open_am</th>\n",
       "      <th>High_am</th>\n",
       "      <th>Low_am</th>\n",
       "      <th>Close_am</th>\n",
       "      <th>...</th>\n",
       "      <th>Low_n</th>\n",
       "      <th>Close_n</th>\n",
       "      <th>Adj Close_n</th>\n",
       "      <th>Volume_n</th>\n",
       "      <th>Open_g</th>\n",
       "      <th>High_g</th>\n",
       "      <th>Low_g</th>\n",
       "      <th>Close_g</th>\n",
       "      <th>Adj Close_g</th>\n",
       "      <th>Volume_g</th>\n",
       "    </tr>\n",
       "  </thead>\n",
       "  <tbody>\n",
       "    <tr>\n",
       "      <th>count</th>\n",
       "      <td>4677.000000</td>\n",
       "      <td>4677.000000</td>\n",
       "      <td>4677.000000</td>\n",
       "      <td>4677.000000</td>\n",
       "      <td>4677.000000</td>\n",
       "      <td>4.677000e+03</td>\n",
       "      <td>4677.000000</td>\n",
       "      <td>4677.000000</td>\n",
       "      <td>4677.000000</td>\n",
       "      <td>4677.000000</td>\n",
       "      <td>...</td>\n",
       "      <td>4677.000000</td>\n",
       "      <td>4677.000000</td>\n",
       "      <td>4677.000000</td>\n",
       "      <td>4.677000e+03</td>\n",
       "      <td>4677.000000</td>\n",
       "      <td>4677.000000</td>\n",
       "      <td>4677.000000</td>\n",
       "      <td>4677.000000</td>\n",
       "      <td>4677.000000</td>\n",
       "      <td>4.677000e+03</td>\n",
       "    </tr>\n",
       "    <tr>\n",
       "      <th>mean</th>\n",
       "      <td>80.474013</td>\n",
       "      <td>81.287218</td>\n",
       "      <td>79.642324</td>\n",
       "      <td>80.499831</td>\n",
       "      <td>74.859850</td>\n",
       "      <td>4.677612e+07</td>\n",
       "      <td>43.147021</td>\n",
       "      <td>43.653958</td>\n",
       "      <td>42.589047</td>\n",
       "      <td>43.131258</td>\n",
       "      <td>...</td>\n",
       "      <td>134.279068</td>\n",
       "      <td>136.527177</td>\n",
       "      <td>136.527177</td>\n",
       "      <td>1.633033e+07</td>\n",
       "      <td>38.255309</td>\n",
       "      <td>38.656113</td>\n",
       "      <td>37.861995</td>\n",
       "      <td>38.265822</td>\n",
       "      <td>38.265822</td>\n",
       "      <td>1.226090e+08</td>\n",
       "    </tr>\n",
       "    <tr>\n",
       "      <th>std</th>\n",
       "      <td>82.975377</td>\n",
       "      <td>83.871933</td>\n",
       "      <td>82.028998</td>\n",
       "      <td>82.998197</td>\n",
       "      <td>84.125115</td>\n",
       "      <td>2.873389e+07</td>\n",
       "      <td>52.190533</td>\n",
       "      <td>52.810681</td>\n",
       "      <td>51.497546</td>\n",
       "      <td>52.149307</td>\n",
       "      <td>...</td>\n",
       "      <td>169.943370</td>\n",
       "      <td>172.578511</td>\n",
       "      <td>172.578511</td>\n",
       "      <td>1.898735e+07</td>\n",
       "      <td>35.540477</td>\n",
       "      <td>35.943265</td>\n",
       "      <td>35.161971</td>\n",
       "      <td>35.555944</td>\n",
       "      <td>35.555944</td>\n",
       "      <td>1.529406e+08</td>\n",
       "    </tr>\n",
       "    <tr>\n",
       "      <th>min</th>\n",
       "      <td>15.200000</td>\n",
       "      <td>15.620000</td>\n",
       "      <td>14.870000</td>\n",
       "      <td>15.150000</td>\n",
       "      <td>11.376368</td>\n",
       "      <td>7.425600e+06</td>\n",
       "      <td>1.304500</td>\n",
       "      <td>1.315000</td>\n",
       "      <td>1.288000</td>\n",
       "      <td>1.303500</td>\n",
       "      <td>...</td>\n",
       "      <td>1.272857</td>\n",
       "      <td>1.290000</td>\n",
       "      <td>1.290000</td>\n",
       "      <td>1.144000e+06</td>\n",
       "      <td>2.470490</td>\n",
       "      <td>2.534002</td>\n",
       "      <td>2.390042</td>\n",
       "      <td>2.490913</td>\n",
       "      <td>2.490913</td>\n",
       "      <td>1.584340e+05</td>\n",
       "    </tr>\n",
       "    <tr>\n",
       "      <th>25%</th>\n",
       "      <td>27.309999</td>\n",
       "      <td>27.520000</td>\n",
       "      <td>27.129999</td>\n",
       "      <td>27.320000</td>\n",
       "      <td>20.496241</td>\n",
       "      <td>2.692250e+07</td>\n",
       "      <td>4.221000</td>\n",
       "      <td>4.282500</td>\n",
       "      <td>4.152500</td>\n",
       "      <td>4.223500</td>\n",
       "      <td>...</td>\n",
       "      <td>5.521429</td>\n",
       "      <td>5.655714</td>\n",
       "      <td>5.655714</td>\n",
       "      <td>6.250800e+06</td>\n",
       "      <td>12.657307</td>\n",
       "      <td>12.771629</td>\n",
       "      <td>12.487195</td>\n",
       "      <td>12.640869</td>\n",
       "      <td>12.640869</td>\n",
       "      <td>2.968400e+07</td>\n",
       "    </tr>\n",
       "    <tr>\n",
       "      <th>50%</th>\n",
       "      <td>36.720001</td>\n",
       "      <td>36.889999</td>\n",
       "      <td>36.230000</td>\n",
       "      <td>36.639999</td>\n",
       "      <td>30.913172</td>\n",
       "      <td>4.010560e+07</td>\n",
       "      <td>15.313500</td>\n",
       "      <td>15.490500</td>\n",
       "      <td>15.144000</td>\n",
       "      <td>15.320000</td>\n",
       "      <td>...</td>\n",
       "      <td>46.450001</td>\n",
       "      <td>47.247143</td>\n",
       "      <td>47.247143</td>\n",
       "      <td>1.038450e+07</td>\n",
       "      <td>25.577278</td>\n",
       "      <td>25.772150</td>\n",
       "      <td>25.253166</td>\n",
       "      <td>25.534290</td>\n",
       "      <td>25.534290</td>\n",
       "      <td>6.698614e+07</td>\n",
       "    </tr>\n",
       "    <tr>\n",
       "      <th>75%</th>\n",
       "      <td>102.089996</td>\n",
       "      <td>102.970001</td>\n",
       "      <td>101.250000</td>\n",
       "      <td>102.059998</td>\n",
       "      <td>97.196487</td>\n",
       "      <td>5.883070e+07</td>\n",
       "      <td>81.192001</td>\n",
       "      <td>82.090500</td>\n",
       "      <td>80.150002</td>\n",
       "      <td>81.378998</td>\n",
       "      <td>...</td>\n",
       "      <td>241.509995</td>\n",
       "      <td>249.300003</td>\n",
       "      <td>249.300003</td>\n",
       "      <td>1.939910e+07</td>\n",
       "      <td>54.528500</td>\n",
       "      <td>55.233501</td>\n",
       "      <td>53.894001</td>\n",
       "      <td>54.546501</td>\n",
       "      <td>54.546501</td>\n",
       "      <td>1.527946e+08</td>\n",
       "    </tr>\n",
       "    <tr>\n",
       "      <th>max</th>\n",
       "      <td>344.619995</td>\n",
       "      <td>349.670013</td>\n",
       "      <td>342.200012</td>\n",
       "      <td>343.109985</td>\n",
       "      <td>339.075562</td>\n",
       "      <td>5.910522e+08</td>\n",
       "      <td>187.199997</td>\n",
       "      <td>188.654007</td>\n",
       "      <td>184.839493</td>\n",
       "      <td>186.570496</td>\n",
       "      <td>...</td>\n",
       "      <td>686.090027</td>\n",
       "      <td>691.690002</td>\n",
       "      <td>691.690002</td>\n",
       "      <td>3.234140e+08</td>\n",
       "      <td>151.863495</td>\n",
       "      <td>152.100006</td>\n",
       "      <td>149.887497</td>\n",
       "      <td>150.709000</td>\n",
       "      <td>150.709000</td>\n",
       "      <td>1.650833e+09</td>\n",
       "    </tr>\n",
       "  </tbody>\n",
       "</table>\n",
       "<p>8 rows × 30 columns</p>\n",
       "</div>"
      ],
      "text/plain": [
       "            Open_m       High_m        Low_m      Close_m  Adj Close_m  \\\n",
       "count  4677.000000  4677.000000  4677.000000  4677.000000  4677.000000   \n",
       "mean     80.474013    81.287218    79.642324    80.499831    74.859850   \n",
       "std      82.975377    83.871933    82.028998    82.998197    84.125115   \n",
       "min      15.200000    15.620000    14.870000    15.150000    11.376368   \n",
       "25%      27.309999    27.520000    27.129999    27.320000    20.496241   \n",
       "50%      36.720001    36.889999    36.230000    36.639999    30.913172   \n",
       "75%     102.089996   102.970001   101.250000   102.059998    97.196487   \n",
       "max     344.619995   349.670013   342.200012   343.109985   339.075562   \n",
       "\n",
       "           Volume_m      Open_am      High_am       Low_am     Close_am  ...  \\\n",
       "count  4.677000e+03  4677.000000  4677.000000  4677.000000  4677.000000  ...   \n",
       "mean   4.677612e+07    43.147021    43.653958    42.589047    43.131258  ...   \n",
       "std    2.873389e+07    52.190533    52.810681    51.497546    52.149307  ...   \n",
       "min    7.425600e+06     1.304500     1.315000     1.288000     1.303500  ...   \n",
       "25%    2.692250e+07     4.221000     4.282500     4.152500     4.223500  ...   \n",
       "50%    4.010560e+07    15.313500    15.490500    15.144000    15.320000  ...   \n",
       "75%    5.883070e+07    81.192001    82.090500    80.150002    81.378998  ...   \n",
       "max    5.910522e+08   187.199997   188.654007   184.839493   186.570496  ...   \n",
       "\n",
       "             Low_n      Close_n  Adj Close_n      Volume_n       Open_g  \\\n",
       "count  4677.000000  4677.000000  4677.000000  4.677000e+03  4677.000000   \n",
       "mean    134.279068   136.527177   136.527177  1.633033e+07    38.255309   \n",
       "std     169.943370   172.578511   172.578511  1.898735e+07    35.540477   \n",
       "min       1.272857     1.290000     1.290000  1.144000e+06     2.470490   \n",
       "25%       5.521429     5.655714     5.655714  6.250800e+06    12.657307   \n",
       "50%      46.450001    47.247143    47.247143  1.038450e+07    25.577278   \n",
       "75%     241.509995   249.300003   249.300003  1.939910e+07    54.528500   \n",
       "max     686.090027   691.690002   691.690002  3.234140e+08   151.863495   \n",
       "\n",
       "            High_g        Low_g      Close_g  Adj Close_g      Volume_g  \n",
       "count  4677.000000  4677.000000  4677.000000  4677.000000  4.677000e+03  \n",
       "mean     38.656113    37.861995    38.265822    38.265822  1.226090e+08  \n",
       "std      35.943265    35.161971    35.555944    35.555944  1.529406e+08  \n",
       "min       2.534002     2.390042     2.490913     2.490913  1.584340e+05  \n",
       "25%      12.771629    12.487195    12.640869    12.640869  2.968400e+07  \n",
       "50%      25.772150    25.253166    25.534290    25.534290  6.698614e+07  \n",
       "75%      55.233501    53.894001    54.546501    54.546501  1.527946e+08  \n",
       "max     152.100006   149.887497   150.709000   150.709000  1.650833e+09  \n",
       "\n",
       "[8 rows x 30 columns]"
      ]
     },
     "execution_count": 22,
     "metadata": {},
     "output_type": "execute_result"
    }
   ],
   "source": [
    "merged_df.describe()"
   ]
  },
  {
   "cell_type": "markdown",
   "metadata": {},
   "source": [
    "We use the `describe()` method to generate descriptive statistics for the numerical columns in the DataFrame. This includes statistics such as mean, median, standard deviation, minimum, maximum, etc."
   ]
  },
  {
   "cell_type": "markdown",
   "metadata": {},
   "source": [
    "### Time Series Analysis"
   ]
  },
  {
   "cell_type": "code",
   "execution_count": 23,
   "metadata": {},
   "outputs": [
    {
     "data": {
      "image/png": "[encoded data removed]",
      "text/plain": [
       "<Figure size 720x432 with 1 Axes>"
      ]
     },
     "metadata": {
      "needs_background": "light"
     },
     "output_type": "display_data"
    }
   ],
   "source": [
    "# Plotting the stock closing prices with respect to time...\n",
    "plt.figure(figsize=(10, 6))\n",
    "plt.plot(merged_df.index, merged_df.Close_m, label='Microsoft')\n",
    "plt.plot(merged_df.index, merged_df.Close_am, label='Amazon')\n",
    "plt.plot(merged_df.index, merged_df.Close_ap, label='Apple')\n",
    "plt.plot(merged_df.index, merged_df.Close_n, label='Netflix')\n",
    "plt.plot(merged_df.index, merged_df.Close_g, label='Google')\n",
    "plt.xlabel('Date') # labels x axis\n",
    "plt.ylabel('Stock Closing Price') # labels y axis\n",
    "plt.title('Stock Prices over Time') # sets title of graph\n",
    "plt.legend()\n",
    "plt.show()"
   ]
  },
  {
   "cell_type": "markdown",
   "metadata": {},
   "source": [
    "- We import the `matplotlib.pyplot` module to create visualizations.\n",
    "- We create a figure and plot the stock prices over time for each company using the `plot()` function. The x-axis represents the index of the DataFrame (date) and the y-axis represents the closing stock price.\n",
    "- We customize the plot by adding labels to the x-axis and y-axis, setting the title, and adding a legend to distinguish the companies.\n",
    "- We display the plot using `plt.show()`."
   ]
  },
  {
   "cell_type": "markdown",
   "metadata": {},
   "source": [
    "> The line plots of stock prices over time show the overall trend of each company's stock price. We can see the trend and fluctuation in the prices. Between year 2015 to 2022 we see that stocks of Netflix we higher than others but suddenly fell between 2022-2023. On the other hand, Microsoft seems to have continuous and stable growth, still higher than other three. "
   ]
  },
  {
   "cell_type": "markdown",
   "metadata": {},
   "source": [
    "### Volume Analysis"
   ]
  },
  {
   "cell_type": "code",
   "execution_count": 24,
   "metadata": {},
   "outputs": [
    {
     "data": {
      "image/png": "[encoded data removed]",
      "text/plain": [
       "<Figure size 648x360 with 1 Axes>"
      ]
     },
     "metadata": {
      "needs_background": "light"
     },
     "output_type": "display_data"
    }
   ],
   "source": [
    "import matplotlib.dates as mdates\n",
    "#setting size of plot\n",
    "#plt.figure(figsize=(10, 6))\n",
    "#setup for the plot\n",
    "plt.plot(merged_df.index, merged_df.Volume_m, label='Microsoft')\n",
    "plt.plot(merged_df.index, merged_df.Volume_am, label='Amazon')\n",
    "plt.plot(merged_df.index, merged_df.Volume_ap, label='Apple')\n",
    "plt.plot(merged_df.index, merged_df.Volume_n, label='Netflix')\n",
    "plt.plot(merged_df.index, merged_df.Volume_g, label='Google')\n",
    "#labeling\n",
    "plt.xlabel('Date')\n",
    "plt.ylabel('Volume')\n",
    "plt.title('Trading Volumes over Time')\n",
    "# Getting the output\n",
    "plt.legend()\n",
    "plt.show()"
   ]
  },
  {
   "cell_type": "markdown",
   "metadata": {},
   "source": [
    "We plot the trading volumes over time for each company using the `plot()` function from `matplotlib.pyplot`.\n",
    "Similar to the previous example, we specify the x-axis (index of the DataFrame, representing dates) and the y-axis (volume) for each company.\n",
    "We add labels to the x-axis and y-axis, set the title, and include a legend to differentiate the companies."
   ]
  },
  {
   "cell_type": "markdown",
   "metadata": {},
   "source": [
    "> The line plots depicting trading volumes over time provide insights into the trading activity of each company. Higher trading volumes often indicate heightened investor interest or increased market activity. By comparing volume trends across companies, we can discern disparities in market liquidity and investor sentiment.\n",
    "Notably, from 2004 to 2023, Apple stands out with significantly higher trading volumes, indicating its active involvement in attracting increased investor interest and driving market activity. "
   ]
  },
  {
   "cell_type": "markdown",
   "metadata": {},
   "source": [
    "### Financial Indicators"
   ]
  },
  {
   "cell_type": "code",
   "execution_count": 25,
   "metadata": {},
   "outputs": [
    {
     "data": {
      "image/png": "[encoded data removed]",
      "text/plain": [
       "<Figure size 648x360 with 1 Axes>"
      ]
     },
     "metadata": {
      "needs_background": "light"
     },
     "output_type": "display_data"
    }
   ],
   "source": [
    "# Calculate daily returns for each company\n",
    "daily_returns = merged_df[['Close_m', 'Close_am', 'Close_ap', 'Close_n', 'Close_g']].pct_change()\n",
    "# pct_change() computes the percentage change from the previous element to the current element.\n",
    "# It is particularly useful for analyzing time series data or any data where the\n",
    "# relative change between consecutive values is of interest.\n",
    "\n",
    "# Plot the daily returns\n",
    "plt.plot(daily_returns.index, daily_returns.Close_m, label='Microsoft')\n",
    "plt.plot(daily_returns.index, daily_returns.Close_am, label='Amazon')\n",
    "plt.plot(daily_returns.index, daily_returns.Close_ap, label='Apple')\n",
    "plt.plot(daily_returns.index, daily_returns.Close_n, label='Netflix')\n",
    "plt.plot(daily_returns.index, daily_returns.Close_g, label='Google')\n",
    "# labeling\n",
    "plt.xlabel('Date')\n",
    "plt.ylabel('Daily Returns')\n",
    "plt.title('Daily Returns of Stock Prices')\n",
    "# Shifting the legend to the right corner\n",
    "plt.legend(loc='upper right', fontsize='small')\n",
    "# getting output\n",
    "plt.show()"
   ]
  },
  {
   "cell_type": "markdown",
   "metadata": {},
   "source": [
    "- We calculate the daily returns for each company's stock prices using the pct_change() function on a subset of the DataFrame containing the closing prices.\n",
    "- We plot the daily returns for each company over time using the plot() function.\n",
    "- The x-axis represents the index (dates), and the y-axis represents the daily returns.\n",
    "\n",
    "**Note:** By default, `pct_change()` calculates the percentage change using the formula: `(current_value - previous_value) / previous_value`."
   ]
  },
  {
   "cell_type": "markdown",
   "metadata": {},
   "source": [
    "> The line plots of daily returns show the percentage change in stock prices on a daily basis. Positive returns indicate growth or profitability, while negative returns may suggest a decline. Analyzing the daily returns helps assess the volatility and performance of the stocks.\n",
    "We see that Netflix has a lot of fluctuations between positive and negative. On the other hand, Google can be seen stable either ways."
   ]
  },
  {
   "cell_type": "markdown",
   "metadata": {},
   "source": [
    "### Mean closing prices"
   ]
  },
  {
   "cell_type": "code",
   "execution_count": 26,
   "metadata": {},
   "outputs": [
    {
     "data": {
      "image/png": "[encoded data removed]",
      "text/plain": [
       "<Figure size 648x360 with 1 Axes>"
      ]
     },
     "metadata": {
      "needs_background": "light"
     },
     "output_type": "display_data"
    }
   ],
   "source": [
    "# Calculate the mean closing prices for each company\n",
    "mean_prices = merged_df[['Close_m', 'Close_am', 'Close_ap', 'Close_n', 'Close_g']].mean()\n",
    "\n",
    "# Define the company labels\n",
    "company_labels = ['Microsoft', 'Amazon', 'Apple', 'Netflix', 'Google']\n",
    "\n",
    "# Create a bar chart to compare the mean closing prices\n",
    "plt.bar(company_labels, mean_prices.values)\n",
    "plt.xlabel('Company')\n",
    "plt.ylabel('Mean Closing Price')\n",
    "plt.title('Mean Closing Prices by Company')\n",
    "\n",
    "# Adding value labels above each bar\n",
    "for i, mean_price in enumerate(mean_prices):\n",
    "    plt.text(i, mean_price, f'{mean_price:.3f}', ha='center', va='bottom')\n",
    "\n",
    "plt.show()"
   ]
  },
  {
   "cell_type": "markdown",
   "metadata": {},
   "source": [
    "We calculate the mean closing prices for each company using the `mean()` function on a subset of the DataFrame.\n",
    "We create a bar chart using the `bar()` function, where each bar represents the mean closing price for a specific company."
   ]
  },
  {
   "cell_type": "markdown",
   "metadata": {},
   "source": [
    "> The bar chart allows for a direct comparison of the mean closing prices for each company. You can identify which company has the highest or lowest mean closing price and observe any significant differences among the companies.\n",
    "Netflix has highest mean closing price and Google has lowest."
   ]
  },
  {
   "cell_type": "markdown",
   "metadata": {},
   "source": [
    "### Microsoft's stock price against its trading volume"
   ]
  },
  {
   "cell_type": "code",
   "execution_count": 27,
   "metadata": {},
   "outputs": [
    {
     "data": {
      "image/png": "[encoded data removed]",
      "text/plain": [
       "<Figure size 576x432 with 1 Axes>"
      ]
     },
     "metadata": {
      "needs_background": "light"
     },
     "output_type": "display_data"
    }
   ],
   "source": [
    "# Create a scatter plot of Microsoft's stock price against its trading volume\n",
    "plt.figure(figsize=(8, 6))\n",
    "plt.scatter(merged_df.Close_m, merged_df.Volume_m, alpha=0.2, linewidths=5)  # Adjusting alpha, edgecolors, and linewidths\n",
    "plt.xlabel('Stock Price')\n",
    "plt.ylabel('Volume')\n",
    "plt.title('Microsoft Stock Price vs. Trading Volume')\n",
    "\n",
    "plt.show()"
   ]
  },
  {
   "cell_type": "markdown",
   "metadata": {},
   "source": [
    "- We create a scatter plot using the scatter() function to visualize the relationship between Microsoft's stock price and its trading volume.\n",
    "- We pass the stock price as the x-axis values and the trading volume as the y-axis values.\n",
    "- The alpha parameter sets the transparency of the markers."
   ]
  },
  {
   "cell_type": "markdown",
   "metadata": {},
   "source": [
    "> By observing the distribution of points, you can identify any patterns or correlations between stock price and trading volume.\n",
    "Higher trading volumes may align with significant changes in stock price, indicating increased market activity.\n",
    "In the given graph, volume is higher when the stock price is comparatively less."
   ]
  },
  {
   "cell_type": "markdown",
   "metadata": {},
   "source": [
    "### Saving work\n",
    "Let us save and upload our work to Jovian before continuing"
   ]
  },
  {
   "cell_type": "code",
   "execution_count": 28,
   "metadata": {},
   "outputs": [],
   "source": [
    "import jovian"
   ]
  },
  {
   "cell_type": "code",
   "execution_count": 29,
   "metadata": {},
   "outputs": [
    {
     "data": {
      "application/javascript": [
       "window.require && require([\"base/js/namespace\"],function(Jupyter){Jupyter.notebook.save_checkpoint()})"
      ],
      "text/plain": [
       "<IPython.core.display.Javascript object>"
      ]
     },
     "metadata": {},
     "output_type": "display_data"
    },
    {
     "name": "stdout",
     "output_type": "stream",
     "text": [
      "[jovian] Updating notebook \"rashmin9c/historical-stock-market-data-analysis\" on https://jovian.com\u001b[0m\n",
      "[jovian] Committed successfully! https://jovian.com/rashmin9c/historical-stock-market-data-analysis\u001b[0m\n"
     ]
    },
    {
     "data": {
      "text/plain": [
       "'https://jovian.com/rashmin9c/historical-stock-market-data-analysis'"
      ]
     },
     "execution_count": 29,
     "metadata": {},
     "output_type": "execute_result"
    }
   ],
   "source": [
    "jovian.commit()"
   ]
  },
  {
   "cell_type": "markdown",
   "metadata": {},
   "source": [
    "## Asking and Answering Questions\n",
    "\n",
    "**Note:** This section is in format Question, Analysis, Visualization, Explanation."
   ]
  },
  {
   "cell_type": "markdown",
   "metadata": {},
   "source": [
    "#### Q1: What are the average trading volumes for each company over time?"
   ]
  },
  {
   "cell_type": "markdown",
   "metadata": {},
   "source": [
    "To determine the average trading volumes, we can calculate the mean trading volumes for each company and visualize them using line graphs."
   ]
  },
  {
   "cell_type": "code",
   "execution_count": 30,
   "metadata": {},
   "outputs": [
    {
     "data": {
      "image/png": "[encoded data removed]",
      "text/plain": [
       "<Figure size 720x432 with 1 Axes>"
      ]
     },
     "metadata": {},
     "output_type": "display_data"
    }
   ],
   "source": [
    "# Set Seaborn style and adjust plot margins for padding\n",
    "sns.set(rc={'figure.figsize': (10, 6), 'axes.titlesize': 14, 'axes.labelsize': 12, 'axes.titlepad': 20})\n",
    "\n",
    "# Calculate the average trading volumes for each company\n",
    "average_volumes = merged_df[['Volume_m', 'Volume_am', 'Volume_ap', 'Volume_n', 'Volume_g']].mean()\n",
    "Comp_vol = ['Microsoft', 'Amazon', 'Apple', 'Netflix', 'Google']\n",
    "\n",
    "# Plot the average trading volumes for each company\n",
    "plt.plot(Comp_vol, average_volumes.values, marker='o', linestyle='-', linewidth=2)\n",
    "plt.xlabel('Company')\n",
    "plt.ylabel('Average Trading Volume')\n",
    "plt.title('Average Trading Volumes')\n",
    "\n",
    "# Adding data labels to the plot\n",
    "for x, y in zip(Comp_vol, average_volumes.values):\n",
    "    plt.text(x, y, f'{y:.2f}', ha='center', va='bottom')\n",
    "\n",
    "plt.show()"
   ]
  },
  {
   "cell_type": "markdown",
   "metadata": {},
   "source": [
    "- We calculate the average trading volumes for each company using the mean() function from Pandas.\n",
    "- The line graph displays the average trading volumes for each company, with each company represented on the x-axis and the average volume on the y-axis."
   ]
  },
  {
   "cell_type": "markdown",
   "metadata": {},
   "source": [
    "#### Q2: Is there any correlation between the closing prices of the technology giants (Microsoft, Amazon, Apple, Netflix, Google) over time?"
   ]
  },
  {
   "cell_type": "markdown",
   "metadata": {},
   "source": [
    "By calculating the correlation coefficient between the closing prices of different companies, we can determine if there is a relationship in their price movements."
   ]
  },
  {
   "cell_type": "code",
   "execution_count": 31,
   "metadata": {},
   "outputs": [
    {
     "data": {
      "image/png": "[encoded data removed]",
      "text/plain": [
       "<Figure size 576x432 with 2 Axes>"
      ]
     },
     "metadata": {},
     "output_type": "display_data"
    }
   ],
   "source": [
    "# Calculate the correlation matrix\n",
    "corr_matrix = merged_df[['Close_m', 'Close_am', 'Close_ap', 'Close_n', 'Close_g']].corr()\n",
    "\n",
    "# Plot the correlation matrix using a heatmap\n",
    "plt.figure(figsize=(8, 6))\n",
    "sns.heatmap(corr_matrix, annot=True, cmap='coolwarm')\n",
    "plt.title('Correlation between Closing Prices')\n",
    "plt.show()"
   ]
  },
  {
   "cell_type": "markdown",
   "metadata": {},
   "source": [
    "- We can see the index and check the correlation between closing prices of the companies\n",
    "- The code calculates the correlation matrix using the `corr()` function from Pandas. It selects the columns corresponding to the closing prices of different companies.\n",
    "- The `seaborn.heatmap()` function is used to create a heatmap of the correlation matrix. This visualization helps to identify the strength and direction of the correlation between the closing prices of different companies."
   ]
  },
  {
   "cell_type": "markdown",
   "metadata": {},
   "source": [
    "#### Q3: Which month tends to have the highest average closing price for each company?"
   ]
  },
  {
   "cell_type": "markdown",
   "metadata": {},
   "source": [
    "By grouping the data by month and calculating the average closing price, we can identify the month that typically exhibits the highest average closing price for each company."
   ]
  },
  {
   "cell_type": "code",
   "execution_count": 32,
   "metadata": {},
   "outputs": [
    {
     "data": {
      "text/plain": [
       "Close_m     2\n",
       "Close_am    7\n",
       "Close_ap    2\n",
       "Close_n     2\n",
       "Close_g     2\n",
       "dtype: int64"
      ]
     },
     "execution_count": 32,
     "metadata": {},
     "output_type": "execute_result"
    }
   ],
   "source": [
    "# Extract the month from the index (Date)\n",
    "merged_df['Month'] = merged_df.index.month\n",
    "\n",
    "# Calculate the average closing price by month for each company\n",
    "monthly_avg_closing = merged_df.groupby(['Month']).mean()[['Close_m', 'Close_am', 'Close_ap', 'Close_n', 'Close_g']]\n",
    "\n",
    "# Identify the month with the highest average closing price for each company\n",
    "highest_avg_month = monthly_avg_closing.idxmax()\n",
    "\n",
    "# Display the results\n",
    "highest_avg_month"
   ]
  },
  {
   "cell_type": "markdown",
   "metadata": {},
   "source": [
    "Using the data, we know the months in the course of 20 years which has highest average closing price for each company."
   ]
  },
  {
   "cell_type": "markdown",
   "metadata": {},
   "source": [
    "- `merged_df['Month'] = merged_df.index.month`: This line extracts the month from the index (Date) and assigns it to a new column called 'Month'.\n",
    "- `highest_avg_month = monthly_avg_closing.idxmax()`: This line uses the `idxmax()` function to identify the index (i.e., the month) with the highest average closing price for each company. It returns a Series object containing the highest average month for each company.\n",
    "- The results are displayed by printing the `highest_avg_month` Series, which shows the month with the highest average closing price for each company throughout the entire dataset."
   ]
  },
  {
   "cell_type": "markdown",
   "metadata": {},
   "source": [
    "#### Q4: How many days did each company's stock price increase or decrease?"
   ]
  },
  {
   "cell_type": "markdown",
   "metadata": {},
   "source": [
    "Count the number of days where the closing price increased or decreased compared to the previous day for each company."
   ]
  },
  {
   "cell_type": "code",
   "execution_count": 33,
   "metadata": {},
   "outputs": [
    {
     "data": {
      "text/html": [
       "<div>\n",
       "<style scoped>\n",
       "    .dataframe tbody tr th:only-of-type {\n",
       "        vertical-align: middle;\n",
       "    }\n",
       "\n",
       "    .dataframe tbody tr th {\n",
       "        vertical-align: top;\n",
       "    }\n",
       "\n",
       "    .dataframe thead th {\n",
       "        text-align: right;\n",
       "    }\n",
       "</style>\n",
       "<table border=\"1\" class=\"dataframe\">\n",
       "  <thead>\n",
       "    <tr style=\"text-align: right;\">\n",
       "      <th></th>\n",
       "      <th>PriceChange_m</th>\n",
       "      <th>PriceChange_am</th>\n",
       "      <th>PriceChange_ap</th>\n",
       "      <th>PriceChange_n</th>\n",
       "      <th>PriceChange_g</th>\n",
       "    </tr>\n",
       "  </thead>\n",
       "  <tbody>\n",
       "    <tr>\n",
       "      <th>Increase</th>\n",
       "      <td>2382</td>\n",
       "      <td>2409</td>\n",
       "      <td>2478</td>\n",
       "      <td>2367</td>\n",
       "      <td>2448</td>\n",
       "    </tr>\n",
       "    <tr>\n",
       "      <th>Decrease</th>\n",
       "      <td>2295</td>\n",
       "      <td>2268</td>\n",
       "      <td>2199</td>\n",
       "      <td>2310</td>\n",
       "      <td>2229</td>\n",
       "    </tr>\n",
       "  </tbody>\n",
       "</table>\n",
       "</div>"
      ],
      "text/plain": [
       "          PriceChange_m  PriceChange_am  PriceChange_ap  PriceChange_n  \\\n",
       "Increase           2382            2409            2478           2367   \n",
       "Decrease           2295            2268            2199           2310   \n",
       "\n",
       "          PriceChange_g  \n",
       "Increase           2448  \n",
       "Decrease           2229  "
      ]
     },
     "execution_count": 33,
     "metadata": {},
     "output_type": "execute_result"
    }
   ],
   "source": [
    "merged_df['PriceChange_m'] = merged_df['Close_m'].diff().apply(lambda x: 'Increase' if x > 0 else 'Decrease')\n",
    "merged_df['PriceChange_am'] = merged_df['Close_am'].diff().apply(lambda x: 'Increase' if x > 0 else 'Decrease')\n",
    "merged_df['PriceChange_ap'] = merged_df['Close_ap'].diff().apply(lambda x: 'Increase' if x > 0 else 'Decrease')\n",
    "merged_df['PriceChange_n'] = merged_df['Close_n'].diff().apply(lambda x: 'Increase' if x > 0 else 'Decrease')\n",
    "merged_df['PriceChange_g'] = merged_df['Close_g'].diff().apply(lambda x: 'Increase' if x > 0 else 'Decrease')\n",
    "\n",
    "price_change_counts = merged_df[['PriceChange_m', 'PriceChange_am', 'PriceChange_ap', 'PriceChange_n', 'PriceChange_g']].apply(pd.Series.value_counts)\n",
    "price_change_counts"
   ]
  },
  {
   "cell_type": "markdown",
   "metadata": {},
   "source": [
    "`merged_df['PriceChange_m'] = merged_df['Close_m'].diff().apply(lambda x: 'Increase' if x > 0 else 'Decrease')`:\n",
    "- `merged_df['Close_m'].diff()` calculates the difference between the closing prices of consecutive days for the Microsoft stock.\n",
    "- The lambda function is applied to each difference value. If the difference is greater than 0, the value is assigned as 'Increase', otherwise 'Decrease'.\n",
    "- The result is stored in a new column called 'PriceChange_m', indicating whether the price increased or decreased compared to the previous day for Microsoft.\n",
    "\n",
    "Similarly with other companies too."
   ]
  },
  {
   "cell_type": "markdown",
   "metadata": {},
   "source": [
    "#### Q5: How does the volatility (standard deviation) of the closing prices vary across different companies?"
   ]
  },
  {
   "cell_type": "markdown",
   "metadata": {},
   "source": [
    "The standard deviation provides a measure of the dispersion or variability of a dataset. A higher standard deviation indicates higher volatility, implying that the closing prices experience larger fluctuations over time."
   ]
  },
  {
   "cell_type": "code",
   "execution_count": 34,
   "metadata": {},
   "outputs": [
    {
     "data": {
      "text/html": [
       "<div>\n",
       "<style scoped>\n",
       "    .dataframe tbody tr th:only-of-type {\n",
       "        vertical-align: middle;\n",
       "    }\n",
       "\n",
       "    .dataframe tbody tr th {\n",
       "        vertical-align: top;\n",
       "    }\n",
       "\n",
       "    .dataframe thead th {\n",
       "        text-align: right;\n",
       "    }\n",
       "</style>\n",
       "<table border=\"1\" class=\"dataframe\">\n",
       "  <thead>\n",
       "    <tr style=\"text-align: right;\">\n",
       "      <th></th>\n",
       "      <th>Company</th>\n",
       "      <th>Closing_Std</th>\n",
       "    </tr>\n",
       "  </thead>\n",
       "  <tbody>\n",
       "    <tr>\n",
       "      <th>0</th>\n",
       "      <td>Microsoft</td>\n",
       "      <td>82.989324</td>\n",
       "    </tr>\n",
       "    <tr>\n",
       "      <th>1</th>\n",
       "      <td>Amazon</td>\n",
       "      <td>52.143731</td>\n",
       "    </tr>\n",
       "    <tr>\n",
       "      <th>2</th>\n",
       "      <td>Apple</td>\n",
       "      <td>46.518716</td>\n",
       "    </tr>\n",
       "    <tr>\n",
       "      <th>3</th>\n",
       "      <td>Netflix</td>\n",
       "      <td>172.560060</td>\n",
       "    </tr>\n",
       "    <tr>\n",
       "      <th>4</th>\n",
       "      <td>Google</td>\n",
       "      <td>35.552143</td>\n",
       "    </tr>\n",
       "  </tbody>\n",
       "</table>\n",
       "</div>"
      ],
      "text/plain": [
       "     Company  Closing_Std\n",
       "0  Microsoft    82.989324\n",
       "1     Amazon    52.143731\n",
       "2      Apple    46.518716\n",
       "3    Netflix   172.560060\n",
       "4     Google    35.552143"
      ]
     },
     "execution_count": 34,
     "metadata": {},
     "output_type": "execute_result"
    }
   ],
   "source": [
    "# Calculate the standard deviation of closing prices for each company\n",
    "closing_std = pd.DataFrame({\n",
    "    'Company': ['Microsoft', 'Amazon', 'Apple', 'Netflix', 'Google'],\n",
    "    'Closing_Std': [np.std(merged_df['Close_m']), np.std(merged_df['Close_am']),\n",
    "                    np.std(merged_df['Close_ap']), np.std(merged_df['Close_n']),\n",
    "                    np.std(merged_df['Close_g'])]\n",
    "})\n",
    "\n",
    "# Display the results\n",
    "closing_std"
   ]
  },
  {
   "cell_type": "markdown",
   "metadata": {},
   "source": [
    "- The code calculates the standard deviation of the closing prices for each company using the `np.std()` function. The closing prices are accessed from the merged DataFrame using the respective column names `('Close_m', 'Close_am', 'Close_ap', 'Close_n', 'Close_g')`.\n",
    "- The results are stored in a new DataFrame called `closing_std`. It consists of two columns: 'Company' containing the names of the companies and 'Closing_Std' containing the computed standard deviations."
   ]
  },
  {
   "cell_type": "markdown",
   "metadata": {},
   "source": [
    "Let us save and upload our work to Jovian before continuing."
   ]
  },
  {
   "cell_type": "code",
   "execution_count": 35,
   "metadata": {},
   "outputs": [],
   "source": [
    "import jovian"
   ]
  },
  {
   "cell_type": "code",
   "execution_count": 36,
   "metadata": {},
   "outputs": [
    {
     "data": {
      "application/javascript": [
       "window.require && require([\"base/js/namespace\"],function(Jupyter){Jupyter.notebook.save_checkpoint()})"
      ],
      "text/plain": [
       "<IPython.core.display.Javascript object>"
      ]
     },
     "metadata": {},
     "output_type": "display_data"
    },
    {
     "name": "stdout",
     "output_type": "stream",
     "text": [
      "[jovian] Updating notebook \"rashmin9c/historical-stock-market-data-analysis\" on https://jovian.com\u001b[0m\n",
      "[jovian] Committed successfully! https://jovian.com/rashmin9c/historical-stock-market-data-analysis\u001b[0m\n"
     ]
    },
    {
     "data": {
      "text/plain": [
       "'https://jovian.com/rashmin9c/historical-stock-market-data-analysis'"
      ]
     },
     "execution_count": 36,
     "metadata": {},
     "output_type": "execute_result"
    }
   ],
   "source": [
    "jovian.commit()"
   ]
  },
  {
   "cell_type": "markdown",
   "metadata": {},
   "source": [
    "## Inferences and Conclusion\n",
    "\n",
    "**The project can be summarized into the following steps:**\n",
    "\n",
    "1. Downloading the dataset: The project starts by downloading the dataset from Kaggle using the `opendatasets` library. This step ensures that the required data is obtained for analysis.\n",
    "\n",
    "2. Data preparation and cleaning: Using the `pandas` library, the dataset is prepared and cleaned. This involves handling missing values, removing duplicates, and organizing the data in a structured format. The five datasets are merged together to create a unified dataset for analysis.\n",
    "\n",
    "3. Exploratory analysis: The project utilizes various libraries such as `numpy`, `pandas`, `matplotlib`, and `seaborn` to perform exploratory analysis on the dataset. This analysis includes:\n",
    "\n",
    "   a. Data summary: Calculating summary statistics such as mean, median, standard deviation, and more to gain insights into the dataset.\n",
    "\n",
    "   b. Time series analysis: Visualizing the time series data, analyzing trends, seasonality, and identifying any patterns or anomalies.\n",
    "\n",
    "   c. Volume analysis: Examining the trading volumes over time, comparing volumes across different companies, and identifying any notable trends or discrepancies.\n",
    "\n",
    "   d. Financial indicators: Calculating and analyzing financial indicators such as daily returns of stock price.\n",
    "\n",
    "   e. Mean closing price: Computing the mean closing prices for each company and visualizing them to compare the average performance.<br>\n",
    "\n",
    "4. Asking and answering questions: The project involves asking relevant questions about the data and providing answers through analysis. This could include questions about the relationship between variables, identifying influential factors, or predicting future trends based on historical data.\n",
    "\n",
    "We made conclusions in the `Exploratory Analysis` and `Asking and Answering Questions` section of this project, such as\n",
    "- Between year 2015 to 2022 we see that stocks of Netflix we higher than others but suddenly fell between 2022-2023. On the other hand, Microsoft seems to have continuous and stable growth, still higher than other three.\n",
    "- Notably, from 2004 to 2023, Apple stands out with significantly higher trading volumes, indicating its active involvement in attracting increased investor interest and driving market activity.\n",
    "- Netflix has highest mean closing price and Google has lowest.\n",
    "- Stock price of microsoft increased for 2382 days and decreased 2295 for days\n",
    "etc."
   ]
  },
  {
   "cell_type": "code",
   "execution_count": 37,
   "metadata": {},
   "outputs": [],
   "source": [
    "import jovian"
   ]
  },
  {
   "cell_type": "code",
   "execution_count": null,
   "metadata": {},
   "outputs": [
    {
     "data": {
      "application/javascript": [
       "window.require && require([\"base/js/namespace\"],function(Jupyter){Jupyter.notebook.save_checkpoint()})"
      ],
      "text/plain": [
       "<IPython.core.display.Javascript object>"
      ]
     },
     "metadata": {},
     "output_type": "display_data"
    }
   ],
   "source": [
    "jovian.commit()"
   ]
  },
  {
   "cell_type": "markdown",
   "metadata": {},
   "source": [
    "## References and Future Work\n",
    "\n",
    "**References:**\n",
    "- Dataset: https://www.kaggle.com/datasets/soumendraprasad/stock\n",
    "- NumPy: https://numpy.org/\n",
    "- Pandas: https://pandas.pydata.org/\n",
    "- MatPlotlib: https://matplotlib.org/\n",
    "- Seaborn: https://seaborn.pydata.org/\n",
    "\n",
    "**Future work:**\n",
    "- Predictive modeling: Build predictive models using machine learning techniques to forecast stock prices or predict trading volumes. This could involve exploring regression models, time series analysis, or even advanced techniques like deep learning.\n",
    "- Sector analysis: Extend the analysis to include sector-level analysis by grouping companies based on their industries. This can reveal sector-specific trends, correlations, and performance indicators."
   ]
  },
  {
   "cell_type": "markdown",
   "metadata": {},
   "source": [
    "Let's save the project."
   ]
  },
  {
   "cell_type": "code",
   "execution_count": null,
   "metadata": {},
   "outputs": [],
   "source": [
    "import jovian"
   ]
  },
  {
   "cell_type": "code",
   "execution_count": null,
   "metadata": {
    "scrolled": true
   },
   "outputs": [],
   "source": [
    "jovian.commit()"
   ]
  }
 ],
 "metadata": {
  "kernelspec": {
   "display_name": "Python 3 (ipykernel)",
   "language": "python",
   "name": "python3"
  },
  "language_info": {
   "codemirror_mode": {
    "name": "ipython",
    "version": 3
   },
   "file_extension": ".py",
   "mimetype": "text/x-python",
   "name": "python",
   "nbconvert_exporter": "python",
   "pygments_lexer": "ipython3",
   "version": "3.9.7"
  }
 },
 "nbformat": 4,
 "nbformat_minor": 4
}
